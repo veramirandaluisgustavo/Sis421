{
  "nbformat": 4,
  "nbformat_minor": 0,
  "metadata": {
    "accelerator": "GPU",
    "colab": {
      "provenance": []
    },
    "kernelspec": {
      "display_name": "Python 3",
      "language": "python",
      "name": "python3"
    },
    "language_info": {
      "codemirror_mode": {
        "name": "ipython",
        "version": 3
      },
      "file_extension": ".py",
      "mimetype": "text/x-python",
      "name": "python",
      "nbconvert_exporter": "python",
      "pygments_lexer": "ipython3",
      "version": "3.7.6"
    },
    "toc": {
      "base_numbering": 1,
      "nav_menu": {},
      "number_sections": true,
      "sideBar": true,
      "skip_h1_title": false,
      "title_cell": "Table of Contents",
      "title_sidebar": "Contents",
      "toc_cell": false,
      "toc_position": {
        "height": "calc(100% - 180px)",
        "left": "10px",
        "top": "150px",
        "width": "233.594px"
      },
      "toc_section_display": true,
      "toc_window_display": false
    }
  },
  "cells": [
    {
      "cell_type": "markdown",
      "metadata": {
        "id": "Yg90deR13qYE"
      },
      "source": [
        "[![Open In Colab](https://colab.research.google.com/assets/colab-badge.svg)](https://colab.research.google.com/github/sensioai/blog/blob/master/041_attention/attention.ipynb)"
      ]
    },
    {
      "cell_type": "markdown",
      "metadata": {
        "id": "4Kzp2jHl3qY7"
      },
      "source": [
        "# Mecanismos de Atención"
      ]
    },
    {
      "cell_type": "markdown",
      "metadata": {
        "id": "Uv20V-KqDhH6"
      },
      "source": [
        "En el [post](https://sensioai.com/blog/040_encoder_decoder) anterior aprendimos a implementar una arquitectura de red neuronal conocida como `seq2seq`, que utiliza dos redes neuronales (el `encoder` y el `decoder`) para poder trabajar con secuencias de longitud arbitraria tanto a sus entradas como en las salidas. Este modelo nos permite llevar a cabo tareas tales como la traducción de texto entre dos idiomas, resumir un texto, responder preguntas, etc.\n",
        "\n",
        "![](https://pytorch.org/tutorials/_images/seq2seq.png)\n",
        "\n",
        "Si bien este modelo nos dio buenos resultados, podemos mejorarlo. Si prestamos atención a la arquitectura que desarrollamos, el `decoder` (encargado de generar la secuencia de salida) es inicializado con el último estado oculto del `encoder`, el cual tiene la responsabilidad de codificar el significado de toda la frase original. Esto puede ser complicado, sobre todo al trabajar con secuencias muy largas, y para solventar este problema podemos utilizar un mecanismo de `atención` que no solo reciba el último estado oculto si no también tenga acceso a todas las salidas del `encoder` de manera que el `decoder` sea capaz de \"focalizar su atención\" en aquellas partes más importantes. Por ejemplo, para traducir la primera palabra es lógico pensar que lo más importante será la primera palabra y sus adyacentes en la frase original, pero usar el último estado oculto del `encoder` puede no ser suficiente para mantener estas relaciones a largo plazo. Permitir al `decoder` acceder a esta información puede resultar en mejores prestaciones."
      ]
    },
    {
      "cell_type": "markdown",
      "metadata": {
        "id": "eGFyd0UgDhH7"
      },
      "source": [
        "> 💡 En la práctica, los mecanismos de atención dan muy buenos resultados en tareas que envuelvan datos secuenciales (como aplicaciones de lenguaje). De hecho, los mejores modelos a día de hoy para tareas de `NLP` no están basados en redes recurrentes sino en arquitecturas que únicamente implementan mecanismos de atención en varias capas. Estas redes neuronales son conocidas como `Transformers`."
      ]
    },
    {
      "cell_type": "markdown",
      "metadata": {
        "id": "WtdizuVTDhH7"
      },
      "source": [
        "## El *dataset*"
      ]
    },
    {
      "cell_type": "markdown",
      "metadata": {
        "ExecuteTime": {
          "end_time": "2020-09-03T08:31:48.390280Z",
          "start_time": "2020-09-03T08:31:48.382280Z"
        },
        "id": "daTZSHr8DhH8"
      },
      "source": [
        "Vamos a resolver exactamente el mismo caso que en el post anterior, así que todo lo que hace referencia al procesado de datos lo dejaremos igual."
      ]
    },
    {
      "cell_type": "code",
      "metadata": {
        "ExecuteTime": {
          "end_time": "2020-09-04T12:31:52.733066Z",
          "start_time": "2020-09-04T12:31:52.725066Z"
        },
        "id": "jjx2B4Q3DhH8"
      },
      "source": [
        "import unicodedata\n",
        "import re\n",
        "\n",
        "def unicodeToAscii(s):\n",
        "    return ''.join(\n",
        "        c for c in unicodedata.normalize('NFD', s)\n",
        "        if unicodedata.category(c) != 'Mn'\n",
        "    )\n",
        "\n",
        "def normalizeString(s):\n",
        "    s = unicodeToAscii(s.lower().strip())\n",
        "    s = re.sub(r\"([.!?])\", r\" \\1\", s)\n",
        "    s = re.sub(r\"[^a-zA-Z.!?]+\", r\" \", s)\n",
        "    return s\n",
        "\n",
        "def read_file(file, reverse=False):\n",
        "    # Read the file and split into lines\n",
        "    lines = open(file, encoding='utf-8').read().strip().split('\\n')\n",
        "\n",
        "    # Split every line into pairs and normalize\n",
        "    pairs = [[normalizeString(s) for s in l.split('\\t')[:2]] for l in lines]\n",
        "\n",
        "    return pairs"
      ],
      "execution_count": 1,
      "outputs": []
    },
    {
      "cell_type": "code",
      "metadata": {
        "ExecuteTime": {
          "end_time": "2020-09-04T12:31:56.056055Z",
          "start_time": "2020-09-04T12:31:52.735065Z"
        },
        "id": "iuI67myQDhH-"
      },
      "source": [
        "pairs = read_file('deu.txt')"
      ],
      "execution_count": 2,
      "outputs": []
    },
    {
      "cell_type": "code",
      "metadata": {
        "ExecuteTime": {
          "end_time": "2020-09-04T12:31:56.071561Z",
          "start_time": "2020-09-04T12:31:56.058156Z"
        },
        "id": "onkJ27fWDhH-",
        "outputId": "077999c1-13e4-4f3b-ad00-abda4c5fcf50",
        "colab": {
          "base_uri": "https://localhost:8080/"
        }
      },
      "source": [
        "import random\n",
        "\n",
        "random.choice(pairs)"
      ],
      "execution_count": 3,
      "outputs": [
        {
          "output_type": "execute_result",
          "data": {
            "text/plain": [
              "['is this for me ?', 'ist das fur mich ?']"
            ]
          },
          "metadata": {},
          "execution_count": 3
        }
      ]
    },
    {
      "cell_type": "code",
      "metadata": {
        "ExecuteTime": {
          "end_time": "2020-09-04T12:31:56.087569Z",
          "start_time": "2020-09-04T12:31:56.074570Z"
        },
        "id": "nlP5chOyDhH_"
      },
      "source": [
        "SOS_token = 0\n",
        "EOS_token = 1\n",
        "PAD_token = 2\n",
        "\n",
        "class Lang:\n",
        "    def __init__(self, name):\n",
        "        self.name = name\n",
        "        self.word2index = {\"SOS\": 0, \"EOS\": 1, \"PAD\": 2}\n",
        "        self.word2count = {}\n",
        "        self.index2word = {0: \"SOS\", 1: \"EOS\", 2: \"PAD\"}\n",
        "        self.n_words = 3  # Count SOS, EOS and PAD\n",
        "\n",
        "    def addSentence(self, sentence):\n",
        "        for word in sentence.split(' '):\n",
        "            self.addWord(word)\n",
        "\n",
        "    def addWord(self, word):\n",
        "        if word not in self.word2index:\n",
        "            self.word2index[word] = self.n_words\n",
        "            self.word2count[word] = 1\n",
        "            self.index2word[self.n_words] = word\n",
        "            self.n_words += 1\n",
        "        else:\n",
        "            self.word2count[word] += 1\n",
        "\n",
        "    def indexesFromSentence(self, sentence):\n",
        "        return [self.word2index[word] for word in sentence.split(' ')]\n",
        "\n",
        "    def sentenceFromIndex(self, index):\n",
        "        return [self.index2word[ix] for ix in index]"
      ],
      "execution_count": 4,
      "outputs": []
    },
    {
      "cell_type": "markdown",
      "metadata": {
        "id": "GFa0Pg3mDhIA"
      },
      "source": [
        "Para poder aplicar la capa de `attention` necesitamos que nuestras frases tengan una longitud máxima definida."
      ]
    },
    {
      "cell_type": "code",
      "metadata": {
        "ExecuteTime": {
          "end_time": "2020-09-04T12:31:56.103564Z",
          "start_time": "2020-09-04T12:31:56.088570Z"
        },
        "id": "bqBjVo-fDhIA"
      },
      "source": [
        "MAX_LENGTH = 10\n",
        "\n",
        "eng_prefixes = (\n",
        "    \"i am \", \"i m \",\n",
        "    \"he is\", \"he s \",\n",
        "    \"she is\", \"she s \",\n",
        "    \"you are\", \"you re \",\n",
        "    \"we are\", \"we re \",\n",
        "    \"they are\", \"they re \"\n",
        ")\n",
        "\n",
        "def filterPairs(pairs, filters, lang=0):\n",
        "    return [p for p in pairs if p[lang].startswith(filters)]\n",
        "\n",
        "def trimPairs(pairs):\n",
        "    return [p for p in pairs if len(p[0].split(' ')) < MAX_LENGTH and len(p[1].split(' ')) < MAX_LENGTH]"
      ],
      "execution_count": 5,
      "outputs": []
    },
    {
      "cell_type": "code",
      "metadata": {
        "ExecuteTime": {
          "end_time": "2020-09-04T12:31:59.717657Z",
          "start_time": "2020-09-04T12:31:56.104565Z"
        },
        "code_folding": [
          0
        ],
        "id": "p0xlL2RpDhIB",
        "outputId": "8c664201-6e49-4351-cb41-f6f969eda9e8",
        "colab": {
          "base_uri": "https://localhost:8080/"
        }
      },
      "source": [
        "def prepareData(file, filters=None, reverse=False):\n",
        "\n",
        "    pairs = read_file(file, reverse)\n",
        "    print(f\"Tenemos {len(pairs)} pares de frases\")\n",
        "\n",
        "    if filters is not None:\n",
        "        pairs = filterPairs(pairs, filters, int(reverse))\n",
        "        print(f\"Filtramos a {len(pairs)} pares de frases\")\n",
        "\n",
        "    pairs = trimPairs(pairs)\n",
        "    print(f\"Tenemos {len(pairs)} pares de frases con longitud menor de {MAX_LENGTH}\")\n",
        "\n",
        "    # Reverse pairs, make Lang instances\n",
        "    if reverse:\n",
        "        pairs = [list(reversed(p)) for p in pairs]\n",
        "        input_lang = Lang('eng')\n",
        "        output_lang = Lang('deu')\n",
        "    else:\n",
        "        input_lang = Lang('deu')\n",
        "        output_lang = Lang('eng')\n",
        "\n",
        "    for pair in pairs:\n",
        "        input_lang.addSentence(pair[0])\n",
        "        output_lang.addSentence(pair[1])\n",
        "\n",
        "        # add <eos> token\n",
        "        pair[0] += \" EOS\"\n",
        "        pair[1] += \" EOS\"\n",
        "\n",
        "    print(\"Longitud vocabularios:\")\n",
        "    print(input_lang.name, input_lang.n_words)\n",
        "    print(output_lang.name, output_lang.n_words)\n",
        "\n",
        "    return input_lang, output_lang, pairs\n",
        "\n",
        "input_lang, output_lang, pairs = prepareData('deu.txt')\n",
        "\n",
        "# descomentar para usar el dataset filtrado\n",
        "#input_lang, output_lang, pairs = prepareData('spa.txt', filters=eng_prefixes)\n",
        "\n",
        "random.choice(pairs)"
      ],
      "execution_count": 7,
      "outputs": [
        {
          "output_type": "stream",
          "name": "stdout",
          "text": [
            "Tenemos 145759 pares de frases\n",
            "Tenemos 144112 pares de frases con longitud menor de 10\n",
            "Longitud vocabularios:\n",
            "deu 10552\n",
            "eng 19777\n"
          ]
        },
        {
          "output_type": "execute_result",
          "data": {
            "text/plain": [
              "['cats are natural born hunters . EOS', 'katzen sind geborene jager . EOS']"
            ]
          },
          "metadata": {},
          "execution_count": 7
        }
      ]
    },
    {
      "cell_type": "code",
      "metadata": {
        "ExecuteTime": {
          "end_time": "2020-09-04T12:31:59.730653Z",
          "start_time": "2020-09-04T12:31:59.719659Z"
        },
        "scrolled": true,
        "id": "4adczw9qDhIB",
        "outputId": "acbe81bf-42e8-44e2-9e4a-13670b63252d",
        "colab": {
          "base_uri": "https://localhost:8080/"
        }
      },
      "source": [
        "output_lang.indexesFromSentence('ich bin so durstig .')"
      ],
      "execution_count": 8,
      "outputs": [
        {
          "output_type": "execute_result",
          "data": {
            "text/plain": [
              "[36, 92, 604, 1491, 4]"
            ]
          },
          "metadata": {},
          "execution_count": 8
        }
      ]
    },
    {
      "cell_type": "code",
      "metadata": {
        "ExecuteTime": {
          "end_time": "2020-09-04T12:31:59.754653Z",
          "start_time": "2020-09-04T12:31:59.731654Z"
        },
        "id": "tKV0Hk3JDhIC",
        "outputId": "3ef47a42-c036-409c-dd04-a9ac3465a805",
        "colab": {
          "base_uri": "https://localhost:8080/"
        }
      },
      "source": [
        "output_lang.sentenceFromIndex([3, 1028, 647, 5])"
      ],
      "execution_count": 9,
      "outputs": [
        {
          "output_type": "execute_result",
          "data": {
            "text/plain": [
              "['geh', 'stark', 'blind', 'hallo']"
            ]
          },
          "metadata": {},
          "execution_count": 9
        }
      ]
    },
    {
      "cell_type": "markdown",
      "metadata": {
        "id": "2g6d3FnUDhIC"
      },
      "source": [
        "En el `Dataset` nos aseguraremos de añadir el *padding* necesario para que todas las frases tengan la misma longitud, lo cual no hace necesario utilizar la función `collate` que implementamos en el post anterior."
      ]
    },
    {
      "cell_type": "code",
      "metadata": {
        "ExecuteTime": {
          "end_time": "2020-09-04T12:32:00.233655Z",
          "start_time": "2020-09-04T12:31:59.756655Z"
        },
        "code_folding": [],
        "id": "zi3oPVr7DhIC",
        "outputId": "02942f67-25fb-4101-815a-595b2ed6ba4b",
        "colab": {
          "base_uri": "https://localhost:8080/"
        }
      },
      "source": [
        "import torch\n",
        "\n",
        "device = \"cuda\" if torch.cuda.is_available() else \"cpu\"\n",
        "\n",
        "class Dataset(torch.utils.data.Dataset):\n",
        "    def __init__(self, input_lang, output_lang, pairs, max_length):\n",
        "        self.input_lang = input_lang\n",
        "        self.output_lang = output_lang\n",
        "        self.pairs = pairs\n",
        "        self.max_length = max_length\n",
        "\n",
        "    def __len__(self):\n",
        "        return len(self.pairs)\n",
        "\n",
        "    def __getitem__(self, ix):\n",
        "        inputs = torch.tensor(self.input_lang.indexesFromSentence(self.pairs[ix][0]), device=device, dtype=torch.long)\n",
        "        outputs = torch.tensor(self.output_lang.indexesFromSentence(self.pairs[ix][1]), device=device, dtype=torch.long)\n",
        "        # metemos padding a todas las frases hast a la longitud máxima\n",
        "        return torch.nn.functional.pad(inputs, (0, self.max_length - len(inputs)), 'constant', self.input_lang.word2index['PAD']), \\\n",
        "            torch.nn.functional.pad(outputs, (0, self.max_length - len(outputs)), 'constant', self.output_lang.word2index['PAD'])\n",
        "\n",
        "# separamos datos en train-test\n",
        "train_size = len(pairs) * 80 // 100\n",
        "train = pairs[:train_size]\n",
        "test = pairs[train_size:]\n",
        "\n",
        "dataset = {\n",
        "    'train': Dataset(input_lang, output_lang, train, max_length=MAX_LENGTH),\n",
        "    'test': Dataset(input_lang, output_lang, test, max_length=MAX_LENGTH)\n",
        "}\n",
        "\n",
        "len(dataset['train']), len(dataset['test'])"
      ],
      "execution_count": 10,
      "outputs": [
        {
          "output_type": "execute_result",
          "data": {
            "text/plain": [
              "(115289, 28823)"
            ]
          },
          "metadata": {},
          "execution_count": 10
        }
      ]
    },
    {
      "cell_type": "code",
      "metadata": {
        "ExecuteTime": {
          "end_time": "2020-09-04T12:32:01.359235Z",
          "start_time": "2020-09-04T12:32:00.234660Z"
        },
        "id": "NI-4eXBzDhID",
        "outputId": "27965bb7-3d6c-46db-dd53-44fdc8f02d93",
        "colab": {
          "base_uri": "https://localhost:8080/"
        }
      },
      "source": [
        "input_sentence, output_sentence = dataset['train'][1]\n",
        "\n",
        "input_sentence, output_sentence"
      ],
      "execution_count": 11,
      "outputs": [
        {
          "output_type": "execute_result",
          "data": {
            "text/plain": [
              "(tensor([5, 4, 1, 2, 2, 2, 2, 2, 2, 2], device='cuda:0'),\n",
              " tensor([5, 6, 1, 2, 2, 2, 2, 2, 2, 2], device='cuda:0'))"
            ]
          },
          "metadata": {},
          "execution_count": 11
        }
      ]
    },
    {
      "cell_type": "code",
      "metadata": {
        "ExecuteTime": {
          "end_time": "2020-09-04T12:32:01.374232Z",
          "start_time": "2020-09-04T12:32:01.360239Z"
        },
        "id": "bkC8KTkXDhID",
        "outputId": "94557a8c-ba66-4c16-d140-95e5cce66ecd",
        "colab": {
          "base_uri": "https://localhost:8080/"
        }
      },
      "source": [
        "input_lang.sentenceFromIndex(input_sentence.tolist()), output_lang.sentenceFromIndex(output_sentence.tolist())"
      ],
      "execution_count": 12,
      "outputs": [
        {
          "output_type": "execute_result",
          "data": {
            "text/plain": [
              "(['hi', '.', 'EOS', 'PAD', 'PAD', 'PAD', 'PAD', 'PAD', 'PAD', 'PAD'],\n",
              " ['hallo', '!', 'EOS', 'PAD', 'PAD', 'PAD', 'PAD', 'PAD', 'PAD', 'PAD'])"
            ]
          },
          "metadata": {},
          "execution_count": 12
        }
      ]
    },
    {
      "cell_type": "code",
      "metadata": {
        "ExecuteTime": {
          "end_time": "2020-09-04T12:32:01.405231Z",
          "start_time": "2020-09-04T12:32:01.375236Z"
        },
        "id": "cSMTf916DhID",
        "outputId": "2196c167-72b1-477e-cd6e-241dde829310",
        "colab": {
          "base_uri": "https://localhost:8080/"
        }
      },
      "source": [
        "dataloader = {\n",
        "    'train': torch.utils.data.DataLoader(dataset['train'], batch_size=64, shuffle=True),\n",
        "    'test': torch.utils.data.DataLoader(dataset['test'], batch_size=256, shuffle=False),\n",
        "}\n",
        "\n",
        "inputs, outputs = next(iter(dataloader['train']))\n",
        "inputs.shape, outputs.shape"
      ],
      "execution_count": 13,
      "outputs": [
        {
          "output_type": "execute_result",
          "data": {
            "text/plain": [
              "(torch.Size([64, 10]), torch.Size([64, 10]))"
            ]
          },
          "metadata": {},
          "execution_count": 13
        }
      ]
    },
    {
      "cell_type": "markdown",
      "metadata": {
        "ExecuteTime": {
          "end_time": "2020-09-04T08:13:53.670033Z",
          "start_time": "2020-09-04T08:13:53.652976Z"
        },
        "id": "blqqT_eRDhIE"
      },
      "source": [
        "## El modelo"
      ]
    },
    {
      "cell_type": "markdown",
      "metadata": {
        "id": "dkdKVyp7DhIE"
      },
      "source": [
        "En lo que se refiere al `encoder`, seguimos usando exactamente la misma arquitectura. La única diferencia es que, además del último estado oculto, necesitaremos todas sus salidas para que el `decoder` pueda usarlas."
      ]
    },
    {
      "cell_type": "code",
      "metadata": {
        "ExecuteTime": {
          "end_time": "2020-09-04T12:32:01.421231Z",
          "start_time": "2020-09-04T12:32:01.406231Z"
        },
        "id": "ltJt9863DhIE"
      },
      "source": [
        "class Encoder(torch.nn.Module):\n",
        "    def __init__(self, input_size, embedding_size=100, hidden_size=100, n_layers=2):\n",
        "        super().__init__()\n",
        "        self.hidden_size = hidden_size\n",
        "        self.embedding = torch.nn.Embedding(input_size, embedding_size)\n",
        "        self.gru = torch.nn.GRU(embedding_size, hidden_size, num_layers=n_layers, batch_first=True)\n",
        "\n",
        "    def forward(self, input_sentences):\n",
        "        embedded = self.embedding(input_sentences)\n",
        "        outputs, hidden = self.gru(embedded)\n",
        "        return outputs, hidden"
      ],
      "execution_count": 14,
      "outputs": []
    },
    {
      "cell_type": "code",
      "metadata": {
        "ExecuteTime": {
          "end_time": "2020-09-04T12:32:01.452231Z",
          "start_time": "2020-09-04T12:32:01.422235Z"
        },
        "id": "xNp_995_DhIE",
        "outputId": "b28e383d-48ba-4d3e-9f58-281258ecb0be",
        "colab": {
          "base_uri": "https://localhost:8080/"
        }
      },
      "source": [
        "encoder = Encoder(input_size=input_lang.n_words)\n",
        "encoder_outputs, encoder_hidden = encoder(torch.randint(0, input_lang.n_words, (64, 10)))\n",
        "\n",
        "# [batch size, seq len, hidden size]\n",
        "encoder_outputs.shape"
      ],
      "execution_count": 15,
      "outputs": [
        {
          "output_type": "execute_result",
          "data": {
            "text/plain": [
              "torch.Size([64, 10, 100])"
            ]
          },
          "metadata": {},
          "execution_count": 15
        }
      ]
    },
    {
      "cell_type": "code",
      "metadata": {
        "ExecuteTime": {
          "end_time": "2020-09-04T12:32:01.468231Z",
          "start_time": "2020-09-04T12:32:01.453237Z"
        },
        "id": "IJPUWzuuDhIF",
        "outputId": "9d4dba8c-a5cc-4e18-c96f-3cce90cdcbf5",
        "colab": {
          "base_uri": "https://localhost:8080/"
        }
      },
      "source": [
        "# [num layers, batch size, hidden size]\n",
        "encoder_hidden.shape"
      ],
      "execution_count": 16,
      "outputs": [
        {
          "output_type": "execute_result",
          "data": {
            "text/plain": [
              "torch.Size([2, 64, 100])"
            ]
          },
          "metadata": {},
          "execution_count": 16
        }
      ]
    },
    {
      "cell_type": "markdown",
      "metadata": {
        "id": "do1BYr7iDhIF"
      },
      "source": [
        "### El *decoder* con *attention*"
      ]
    },
    {
      "cell_type": "markdown",
      "metadata": {
        "id": "EbSny1MIDhIF"
      },
      "source": [
        "Vamos a ver un ejemplo de implementación de una capa de atención para nuestro `decoder`. En primer lugar tendremos una capa lineal que recibirá como entradas los `embeddings` y el estado oculto anterior (concatenados). Esta capa lineal nos dará a la salida tantos valores como elementos tengamos en nuestras secuencias de entrada (recuerda que las hemos forzado a tener una longitud determinada). Después, aplicaremos una función `softmax` sobre estos valores obteniendo así una distribución de probabilidad que, seguidamente, multiplicaremos por los *outputs* del encoder (que también tienen la misma longitud). En esta función de probabilidad, cada elemento tiene un valor entre 0 y 1. Así pues, esta operación dará más importancia a aquellos *outputs* del `encoder` más importantes mientras que al resto les asignará unos valores cercanos a 0. A continuación, concatenaremos estos valores con los `embeddings`, de nuevo, y se lo daremos a una nueva capa lineal que combinará estos `embeddings` con los *outputs* del `encoder` re-escalados para obtener así los *inputs* finales de la capa recurrente.\n",
        "\n",
        "En resumen, usaremos las entradas y estado oculto del `decoder` para encontrar unos pesos que re-escalarán las salidas del `encoder`, los cuales combinaremos de nuevo con las entradas del `decoder` para obtener las representaciones finales de nuestras frases que alimentan la capa recurrente.\n",
        "\n",
        "![](https://i.imgur.com/1152PYf.png)"
      ]
    },
    {
      "cell_type": "code",
      "metadata": {
        "ExecuteTime": {
          "end_time": "2020-09-04T13:43:51.447608Z",
          "start_time": "2020-09-04T13:43:51.433585Z"
        },
        "id": "x2ljo7vMDhIF"
      },
      "source": [
        "class AttnDecoder(torch.nn.Module):\n",
        "    def __init__(self, input_size, embedding_size=100, hidden_size=100, n_layers=2, max_length=MAX_LENGTH):\n",
        "        super().__init__()\n",
        "\n",
        "        self.embedding = torch.nn.Embedding(input_size, embedding_size)\n",
        "        self.gru = torch.nn.GRU(embedding_size, hidden_size, num_layers=n_layers, batch_first=True)\n",
        "        self.out = torch.nn.Linear(hidden_size, input_size)\n",
        "\n",
        "        # attention\n",
        "        self.attn = torch.nn.Linear(hidden_size + embedding_size, max_length)\n",
        "        self.attn_combine = torch.nn.Linear(hidden_size * 2, hidden_size)\n",
        "\n",
        "\n",
        "    def forward(self, input_words, hidden, encoder_outputs):\n",
        "        # sacamos los embeddings\n",
        "        embedded = self.embedding(input_words)\n",
        "        # calculamos los pesos de la capa de atención\n",
        "        attn_weights = torch.nn.functional.softmax(self.attn(torch.cat((embedded.squeeze(1), hidden[0]), dim=1)))\n",
        "        # re-escalamos los outputs del encoder con estos pesos\n",
        "        attn_applied = torch.bmm(attn_weights.unsqueeze(1), encoder_outputs)\n",
        "        output = torch.cat((embedded.squeeze(1), attn_applied.squeeze(1)), 1)\n",
        "        # aplicamos la capa de atención\n",
        "        output = self.attn_combine(output)\n",
        "        output = torch.nn.functional.relu(output)\n",
        "        # a partir de aquí, como siempre. La diferencia es que la entrada a la RNN\n",
        "        # no es directmanete el embedding sino una combinación del embedding\n",
        "        # y las salidas del encoder re-escaladas\n",
        "        output, hidden = self.gru(output.unsqueeze(1), hidden)\n",
        "        output = self.out(output.squeeze(1))\n",
        "        return output, hidden, attn_weights"
      ],
      "execution_count": 17,
      "outputs": []
    },
    {
      "cell_type": "code",
      "metadata": {
        "ExecuteTime": {
          "end_time": "2020-09-04T12:32:01.539231Z",
          "start_time": "2020-09-04T12:32:01.484236Z"
        },
        "id": "cXAw3xHpDhIF",
        "outputId": "a1837068-9111-4b8b-e7db-a633849207f1",
        "colab": {
          "base_uri": "https://localhost:8080/"
        }
      },
      "source": [
        "decoder = AttnDecoder(input_size=output_lang.n_words)\n",
        "decoder_output, decoder_hidden, attn_weights = decoder(torch.randint(0, output_lang.n_words, (64, 1)), encoder_hidden, encoder_outputs)\n",
        "\n",
        "# [batch size, vocab size]\n",
        "decoder_output.shape"
      ],
      "execution_count": 18,
      "outputs": [
        {
          "output_type": "stream",
          "name": "stderr",
          "text": [
            "<ipython-input-17-51f795b71400>:18: UserWarning: Implicit dimension choice for softmax has been deprecated. Change the call to include dim=X as an argument.\n",
            "  attn_weights = torch.nn.functional.softmax(self.attn(torch.cat((embedded.squeeze(1), hidden[0]), dim=1)))\n"
          ]
        },
        {
          "output_type": "execute_result",
          "data": {
            "text/plain": [
              "torch.Size([64, 19777])"
            ]
          },
          "metadata": {},
          "execution_count": 18
        }
      ]
    },
    {
      "cell_type": "code",
      "metadata": {
        "ExecuteTime": {
          "end_time": "2020-09-04T12:32:01.547232Z",
          "start_time": "2020-09-04T12:32:01.541233Z"
        },
        "id": "JwlFc-8zDhIG",
        "outputId": "154d9355-5c22-4c8a-dc10-ea98bad2e37f",
        "colab": {
          "base_uri": "https://localhost:8080/"
        }
      },
      "source": [
        "# [num layers, batch size, hidden size]\n",
        "decoder_hidden.shape"
      ],
      "execution_count": 19,
      "outputs": [
        {
          "output_type": "execute_result",
          "data": {
            "text/plain": [
              "torch.Size([2, 64, 100])"
            ]
          },
          "metadata": {},
          "execution_count": 19
        }
      ]
    },
    {
      "cell_type": "code",
      "metadata": {
        "ExecuteTime": {
          "end_time": "2020-09-04T12:32:01.572231Z",
          "start_time": "2020-09-04T12:32:01.548231Z"
        },
        "id": "ig9fzbH0DhIG",
        "outputId": "63ae657c-d7d6-4578-f62f-c87c6bf39ebc",
        "colab": {
          "base_uri": "https://localhost:8080/"
        }
      },
      "source": [
        "# [num layers, batch size, hidden size]\n",
        "decoder_hidden.shape"
      ],
      "execution_count": 20,
      "outputs": [
        {
          "output_type": "execute_result",
          "data": {
            "text/plain": [
              "torch.Size([2, 64, 100])"
            ]
          },
          "metadata": {},
          "execution_count": 20
        }
      ]
    },
    {
      "cell_type": "code",
      "metadata": {
        "ExecuteTime": {
          "end_time": "2020-09-04T12:32:01.578233Z",
          "start_time": "2020-09-04T12:32:01.573232Z"
        },
        "id": "FW_BF-feDhIG",
        "outputId": "b6b1977c-31b6-4754-c49e-826b20eb65a4",
        "colab": {
          "base_uri": "https://localhost:8080/"
        }
      },
      "source": [
        "# [batch size, max_length]\n",
        "attn_weights.shape"
      ],
      "execution_count": 21,
      "outputs": [
        {
          "output_type": "execute_result",
          "data": {
            "text/plain": [
              "torch.Size([64, 10])"
            ]
          },
          "metadata": {},
          "execution_count": 21
        }
      ]
    },
    {
      "cell_type": "markdown",
      "metadata": {
        "id": "XfgvaCeWDhIG"
      },
      "source": [
        "## Entrenamiento"
      ]
    },
    {
      "cell_type": "markdown",
      "metadata": {
        "id": "ypR81P5sDhIG"
      },
      "source": [
        "Vamos a implementar el bucle de entrenamiento. En primer lugar, al tener ahora dos redes neuronales, necesitaremos dos optimizadores (uno para el `encoder` y otro para el `decoder`). Al `encoder` le pasaremos la frase en el idioma original, y obtendremos el estado oculto final. Este estado oculto lo usaremos para inicializar el `decoder` que, junto al token `<sos>`, generará la primera palabra de la frase traducida. Repetiremos el proceso, utilizando como entrada la anterior salida del decoder, hasta obtener el token `<eos>`."
      ]
    },
    {
      "cell_type": "code",
      "metadata": {
        "ExecuteTime": {
          "end_time": "2020-09-04T12:32:01.593231Z",
          "start_time": "2020-09-04T12:32:01.579232Z"
        },
        "code_folding": [
          3
        ],
        "id": "QDu8VoLqDhIG"
      },
      "source": [
        "from tqdm import tqdm\n",
        "import numpy as np\n",
        "\n",
        "def fit(encoder, decoder, dataloader, epochs=10):\n",
        "    encoder.to(device)\n",
        "    decoder.to(device)\n",
        "    encoder_optimizer = torch.optim.Adam(encoder.parameters(), lr=1e-3)\n",
        "    decoder_optimizer = torch.optim.Adam(decoder.parameters(), lr=1e-3)\n",
        "    criterion = torch.nn.CrossEntropyLoss()\n",
        "    for epoch in range(1, epochs+1):\n",
        "        encoder.train()\n",
        "        decoder.train()\n",
        "        train_loss = []\n",
        "        bar = tqdm(dataloader['train'])\n",
        "        for batch in bar:\n",
        "            input_sentences, output_sentences = batch\n",
        "            bs = input_sentences.shape[0]\n",
        "            loss = 0\n",
        "            encoder_optimizer.zero_grad()\n",
        "            decoder_optimizer.zero_grad()\n",
        "            # obtenemos el último estado oculto del encoder\n",
        "            encoder_outputs, hidden = encoder(input_sentences)\n",
        "            # calculamos las salidas del decoder de manera recurrente\n",
        "            decoder_input = torch.tensor([[output_lang.word2index['SOS']] for b in range(bs)], device=device)\n",
        "            for i in range(output_sentences.shape[1]):\n",
        "                output, hidden, attn_weights = decoder(decoder_input, hidden, encoder_outputs)\n",
        "                loss += criterion(output, output_sentences[:, i].view(bs))\n",
        "                # el siguiente input será la palabra predicha\n",
        "                decoder_input = torch.argmax(output, axis=1).view(bs, 1)\n",
        "            # optimización\n",
        "            loss.backward()\n",
        "            encoder_optimizer.step()\n",
        "            decoder_optimizer.step()\n",
        "            train_loss.append(loss.item())\n",
        "            bar.set_description(f\"Epoch {epoch}/{epochs} loss {np.mean(train_loss):.5f}\")\n",
        "\n",
        "        val_loss = []\n",
        "        encoder.eval()\n",
        "        decoder.eval()\n",
        "        with torch.no_grad():\n",
        "            bar = tqdm(dataloader['test'])\n",
        "            for batch in bar:\n",
        "                input_sentences, output_sentences = batch\n",
        "                bs = input_sentences.shape[0]\n",
        "                loss = 0\n",
        "                # obtenemos el último estado oculto del encoder\n",
        "                encoder_outputs, hidden = encoder(input_sentences)\n",
        "                # calculamos las salidas del decoder de manera recurrente\n",
        "                decoder_input = torch.tensor([[output_lang.word2index['SOS']] for b in range(bs)], device=device)\n",
        "                for i in range(output_sentences.shape[1]):\n",
        "                    output, hidden, attn_weights = decoder(decoder_input, hidden, encoder_outputs)\n",
        "                    loss += criterion(output, output_sentences[:, i].view(bs))\n",
        "                    # el siguiente input será la palabra predicha\n",
        "                    decoder_input = torch.argmax(output, axis=1).view(bs, 1)\n",
        "                val_loss.append(loss.item())\n",
        "                bar.set_description(f\"Epoch {epoch}/{epochs} val_loss {np.mean(val_loss):.5f}\")"
      ],
      "execution_count": 22,
      "outputs": []
    },
    {
      "cell_type": "code",
      "metadata": {
        "ExecuteTime": {
          "end_time": "2020-09-04T12:58:02.367102Z",
          "start_time": "2020-09-04T12:32:01.595236Z"
        },
        "id": "bwNeQeLGDhIH",
        "outputId": "9ea4ae62-95a5-41b4-a729-400d8dd1faa4",
        "colab": {
          "base_uri": "https://localhost:8080/"
        }
      },
      "source": [
        "fit(encoder, decoder, dataloader, epochs=30)"
      ],
      "execution_count": 23,
      "outputs": [
        {
          "output_type": "stream",
          "name": "stderr",
          "text": [
            "\r  0%|          | 0/1802 [00:00<?, ?it/s]<ipython-input-17-51f795b71400>:18: UserWarning: Implicit dimension choice for softmax has been deprecated. Change the call to include dim=X as an argument.\n",
            "  attn_weights = torch.nn.functional.softmax(self.attn(torch.cat((embedded.squeeze(1), hidden[0]), dim=1)))\n",
            "Epoch 1/30 loss 29.57289: 100%|██████████| 1802/1802 [01:05<00:00, 27.54it/s]\n",
            "Epoch 1/30 val_loss 33.57932: 100%|██████████| 113/113 [00:06<00:00, 18.55it/s]\n",
            "Epoch 2/30 loss 22.00338: 100%|██████████| 1802/1802 [01:00<00:00, 29.64it/s]\n",
            "Epoch 2/30 val_loss 30.21193: 100%|██████████| 113/113 [00:05<00:00, 18.92it/s]\n",
            "Epoch 3/30 loss 19.06302: 100%|██████████| 1802/1802 [01:01<00:00, 29.28it/s]\n",
            "Epoch 3/30 val_loss 28.51631: 100%|██████████| 113/113 [00:06<00:00, 18.70it/s]\n",
            "Epoch 4/30 loss 17.04084: 100%|██████████| 1802/1802 [01:01<00:00, 29.47it/s]\n",
            "Epoch 4/30 val_loss 27.50327: 100%|██████████| 113/113 [00:05<00:00, 18.85it/s]\n",
            "Epoch 5/30 loss 15.50890: 100%|██████████| 1802/1802 [01:00<00:00, 29.89it/s]\n",
            "Epoch 5/30 val_loss 27.01757: 100%|██████████| 113/113 [00:06<00:00, 18.33it/s]\n",
            "Epoch 6/30 loss 14.28816: 100%|██████████| 1802/1802 [01:01<00:00, 29.46it/s]\n",
            "Epoch 6/30 val_loss 26.46044: 100%|██████████| 113/113 [00:05<00:00, 21.10it/s]\n",
            "Epoch 7/30 loss 13.29801: 100%|██████████| 1802/1802 [01:01<00:00, 29.33it/s]\n",
            "Epoch 7/30 val_loss 26.25013: 100%|██████████| 113/113 [00:05<00:00, 20.65it/s]\n",
            "Epoch 8/30 loss 12.47428: 100%|██████████| 1802/1802 [01:01<00:00, 29.16it/s]\n",
            "Epoch 8/30 val_loss 26.42706: 100%|██████████| 113/113 [00:06<00:00, 17.76it/s]\n",
            "Epoch 9/30 loss 11.78772: 100%|██████████| 1802/1802 [01:01<00:00, 29.54it/s]\n",
            "Epoch 9/30 val_loss 26.23944: 100%|██████████| 113/113 [00:05<00:00, 21.08it/s]\n",
            "Epoch 10/30 loss 11.20713: 100%|██████████| 1802/1802 [01:01<00:00, 29.29it/s]\n",
            "Epoch 10/30 val_loss 26.32332: 100%|██████████| 113/113 [00:05<00:00, 21.25it/s]\n",
            "Epoch 11/30 loss 10.70164: 100%|██████████| 1802/1802 [01:01<00:00, 29.37it/s]\n",
            "Epoch 11/30 val_loss 26.27007: 100%|██████████| 113/113 [00:06<00:00, 18.65it/s]\n",
            "Epoch 12/30 loss 10.26115: 100%|██████████| 1802/1802 [01:01<00:00, 29.23it/s]\n",
            "Epoch 12/30 val_loss 26.39626: 100%|██████████| 113/113 [00:05<00:00, 20.14it/s]\n",
            "Epoch 13/30 loss 9.88841: 100%|██████████| 1802/1802 [01:01<00:00, 29.33it/s]\n",
            "Epoch 13/30 val_loss 26.66274: 100%|██████████| 113/113 [00:05<00:00, 21.29it/s]\n",
            "Epoch 14/30 loss 9.54014: 100%|██████████| 1802/1802 [01:01<00:00, 29.42it/s]\n",
            "Epoch 14/30 val_loss 26.70865: 100%|██████████| 113/113 [00:06<00:00, 17.98it/s]\n",
            "Epoch 15/30 loss 9.25716: 100%|██████████| 1802/1802 [01:01<00:00, 29.30it/s]\n",
            "Epoch 15/30 val_loss 26.85067: 100%|██████████| 113/113 [00:05<00:00, 20.71it/s]\n",
            "Epoch 16/30 loss 8.99365: 100%|██████████| 1802/1802 [01:02<00:00, 28.60it/s]\n",
            "Epoch 16/30 val_loss 26.99171: 100%|██████████| 113/113 [00:06<00:00, 18.44it/s]\n",
            "Epoch 17/30 loss 8.74770: 100%|██████████| 1802/1802 [01:01<00:00, 29.13it/s]\n",
            "Epoch 17/30 val_loss 27.16559: 100%|██████████| 113/113 [00:05<00:00, 19.03it/s]\n",
            "Epoch 18/30 loss 8.53269: 100%|██████████| 1802/1802 [01:02<00:00, 29.04it/s]\n",
            "Epoch 18/30 val_loss 27.41554: 100%|██████████| 113/113 [00:05<00:00, 20.79it/s]\n",
            "Epoch 19/30 loss 8.33758: 100%|██████████| 1802/1802 [01:02<00:00, 28.98it/s]\n",
            "Epoch 19/30 val_loss 27.46677: 100%|██████████| 113/113 [00:06<00:00, 18.17it/s]\n",
            "Epoch 20/30 loss 8.16625: 100%|██████████| 1802/1802 [01:02<00:00, 28.72it/s]\n",
            "Epoch 20/30 val_loss 27.57856: 100%|██████████| 113/113 [00:05<00:00, 18.92it/s]\n",
            "Epoch 21/30 loss 7.99354: 100%|██████████| 1802/1802 [01:01<00:00, 29.34it/s]\n",
            "Epoch 21/30 val_loss 27.81768: 100%|██████████| 113/113 [00:05<00:00, 21.21it/s]\n",
            "Epoch 22/30 loss 7.85328: 100%|██████████| 1802/1802 [01:01<00:00, 29.20it/s]\n",
            "Epoch 22/30 val_loss 28.03078: 100%|██████████| 113/113 [00:05<00:00, 21.30it/s]\n",
            "Epoch 23/30 loss 7.71370: 100%|██████████| 1802/1802 [01:01<00:00, 29.31it/s]\n",
            "Epoch 23/30 val_loss 28.02169: 100%|██████████| 113/113 [00:06<00:00, 18.65it/s]\n",
            "Epoch 24/30 loss 7.58069: 100%|██████████| 1802/1802 [01:01<00:00, 29.08it/s]\n",
            "Epoch 24/30 val_loss 28.55147: 100%|██████████| 113/113 [00:05<00:00, 20.30it/s]\n",
            "Epoch 25/30 loss 7.46012: 100%|██████████| 1802/1802 [01:01<00:00, 29.45it/s]\n",
            "Epoch 25/30 val_loss 28.39905: 100%|██████████| 113/113 [00:05<00:00, 21.32it/s]\n",
            "Epoch 26/30 loss 7.35283: 100%|██████████| 1802/1802 [01:01<00:00, 29.33it/s]\n",
            "Epoch 26/30 val_loss 28.72973: 100%|██████████| 113/113 [00:06<00:00, 17.57it/s]\n",
            "Epoch 27/30 loss 7.24591: 100%|██████████| 1802/1802 [01:02<00:00, 28.80it/s]\n",
            "Epoch 27/30 val_loss 28.92229: 100%|██████████| 113/113 [00:05<00:00, 20.61it/s]\n",
            "Epoch 28/30 loss 7.14513: 100%|██████████| 1802/1802 [01:02<00:00, 28.76it/s]\n",
            "Epoch 28/30 val_loss 28.95803: 100%|██████████| 113/113 [00:05<00:00, 19.68it/s]\n",
            "Epoch 29/30 loss 7.05258: 100%|██████████| 1802/1802 [01:02<00:00, 28.93it/s]\n",
            "Epoch 29/30 val_loss 29.12182: 100%|██████████| 113/113 [00:06<00:00, 18.45it/s]\n",
            "Epoch 30/30 loss 6.95362: 100%|██████████| 1802/1802 [01:01<00:00, 29.16it/s]\n",
            "Epoch 30/30 val_loss 29.44561: 100%|██████████| 113/113 [00:05<00:00, 20.12it/s]\n"
          ]
        }
      ]
    },
    {
      "cell_type": "markdown",
      "metadata": {
        "id": "81pQZ8FODhIH"
      },
      "source": [
        "## Generando traducciones"
      ]
    },
    {
      "cell_type": "markdown",
      "metadata": {
        "id": "zpf0z3bbDhIH"
      },
      "source": [
        "Una vez tenemos nuestro modelo entrenado, podemos utilizarlo para traducir frases del ingles a aleman de la siguiente manera."
      ]
    },
    {
      "cell_type": "code",
      "metadata": {
        "ExecuteTime": {
          "end_time": "2020-09-04T13:12:31.925887Z",
          "start_time": "2020-09-04T13:12:31.915888Z"
        },
        "id": "zcFY7vzDDhIH",
        "outputId": "5c234e38-3aec-4875-ac95-bd823bea9977",
        "colab": {
          "base_uri": "https://localhost:8080/"
        }
      },
      "source": [
        "input_sentence, output_sentence = dataset['train'][100]\n",
        "input_lang.sentenceFromIndex(input_sentence.tolist()), output_lang.sentenceFromIndex(output_sentence.tolist())"
      ],
      "execution_count": 24,
      "outputs": [
        {
          "output_type": "execute_result",
          "data": {
            "text/plain": [
              "(['no', 'way', '!', 'EOS', 'PAD', 'PAD', 'PAD', 'PAD', 'PAD', 'PAD'],\n",
              " ['das', 'kommt', 'nicht', 'in', 'frage', '!', 'EOS', 'PAD', 'PAD', 'PAD'])"
            ]
          },
          "metadata": {},
          "execution_count": 24
        }
      ]
    },
    {
      "cell_type": "code",
      "metadata": {
        "ExecuteTime": {
          "end_time": "2020-09-04T13:12:32.615887Z",
          "start_time": "2020-09-04T13:12:32.598887Z"
        },
        "code_folding": [],
        "id": "RzxhNLU8DhIH"
      },
      "source": [
        "def predict(input_sentence):\n",
        "    # obtenemos el último estado oculto del encoder\n",
        "    encoder_outputs, hidden = encoder(input_sentence.unsqueeze(0))\n",
        "    # calculamos las salidas del decoder de manera recurrente\n",
        "    decoder_input = torch.tensor([[output_lang.word2index['SOS']]], device=device)\n",
        "    # iteramos hasta que el decoder nos de el token <eos>\n",
        "    outputs = []\n",
        "    decoder_attentions = torch.zeros(MAX_LENGTH, MAX_LENGTH)\n",
        "    i = 0\n",
        "    while True:\n",
        "        output, hidden, attn_weights = decoder(decoder_input, hidden, encoder_outputs)\n",
        "\n",
        "        if i < MAX_LENGTH:\n",
        "            decoder_attentions[i] = attn_weights.data\n",
        "        else:\n",
        "            break\n",
        "        i += 1\n",
        "        decoder_input = torch.argmax(output, axis=1).view(1, 1)\n",
        "        outputs.append(decoder_input.cpu().item())\n",
        "        if decoder_input.item() == output_lang.word2index['EOS']:\n",
        "            break\n",
        "    return output_lang.sentenceFromIndex(outputs), decoder_attentions"
      ],
      "execution_count": 64,
      "outputs": []
    },
    {
      "cell_type": "code",
      "metadata": {
        "ExecuteTime": {
          "end_time": "2020-09-04T13:12:32.789887Z",
          "start_time": "2020-09-04T13:12:32.775888Z"
        },
        "id": "nJWDsiGsDhII",
        "outputId": "3c393034-3d19-4215-d09d-5fd57f441210",
        "colab": {
          "base_uri": "https://localhost:8080/"
        }
      },
      "source": [
        "output_words, attn = predict(input_sentence)\n",
        "output_words"
      ],
      "execution_count": 65,
      "outputs": [
        {
          "output_type": "stream",
          "name": "stderr",
          "text": [
            "<ipython-input-17-51f795b71400>:18: UserWarning: Implicit dimension choice for softmax has been deprecated. Change the call to include dim=X as an argument.\n",
            "  attn_weights = torch.nn.functional.softmax(self.attn(torch.cat((embedded.squeeze(1), hidden[0]), dim=1)))\n"
          ]
        },
        {
          "output_type": "execute_result",
          "data": {
            "text/plain": [
              "['kein', 'ist', '!', '!', 'PAD', 'PAD', 'PAD', 'PAD', 'PAD', 'EOS']"
            ]
          },
          "metadata": {},
          "execution_count": 65
        }
      ]
    },
    {
      "cell_type": "markdown",
      "metadata": {
        "id": "FVk45xViDhII"
      },
      "source": [
        "## Visualización de atención"
      ]
    },
    {
      "cell_type": "markdown",
      "metadata": {
        "id": "ZIwB1jkSDhII"
      },
      "source": [
        "Una de las ventajas que nos da la capa de atención es que nos permite visualizar en qué partes de los inputs se fija el modelo para generar cada una de las palabras en el output, dando un grado de explicabilidad a nuestro modelo (una propiedad siempre deseada en nuestro modelos de `Machine Learning`)."
      ]
    },
    {
      "cell_type": "code",
      "metadata": {
        "ExecuteTime": {
          "end_time": "2020-09-04T13:12:33.513889Z",
          "start_time": "2020-09-04T13:12:33.505889Z"
        },
        "id": "ZnOX1xXEDhII"
      },
      "source": [
        "import matplotlib.pyplot as plt\n",
        "import matplotlib.ticker as ticker\n",
        "\n",
        "def showAttention(input_sentence, output_words, attentions):\n",
        "    lim1, lim2 = input_sentence.index('EOS')+1, output_words.index('EOS')+1\n",
        "    fig = plt.figure(dpi=100)\n",
        "    ax = fig.add_subplot(111)\n",
        "    cax = ax.matshow(attentions[:lim2, :lim1].numpy(), cmap='bone')\n",
        "    fig.colorbar(cax)\n",
        "    # Set up axes\n",
        "    ax.set_xticklabels([' '] + input_sentence[:lim1], rotation=90)\n",
        "    ax.set_yticklabels([' '] + output_words)\n",
        "    # Show label at every tick\n",
        "    ax.xaxis.set_major_locator(ticker.MultipleLocator(1))\n",
        "    ax.yaxis.set_major_locator(ticker.MultipleLocator(1))\n",
        "    plt.show()"
      ],
      "execution_count": 37,
      "outputs": []
    },
    {
      "cell_type": "code",
      "metadata": {
        "ExecuteTime": {
          "end_time": "2020-09-04T13:12:34.273921Z",
          "start_time": "2020-09-04T13:12:34.160888Z"
        },
        "id": "vchBo16ODhII",
        "outputId": "e232f42d-3824-4a9c-bac4-a7d05494e1e5",
        "colab": {
          "base_uri": "https://localhost:8080/",
          "height": 518
        }
      },
      "source": [
        "showAttention(input_lang.sentenceFromIndex(input_sentence.tolist()), output_words, attn)"
      ],
      "execution_count": 66,
      "outputs": [
        {
          "output_type": "stream",
          "name": "stderr",
          "text": [
            "<ipython-input-37-c3618fc79f44>:11: UserWarning: FixedFormatter should only be used together with FixedLocator\n",
            "  ax.set_xticklabels([' '] + input_sentence[:lim1], rotation=90)\n",
            "<ipython-input-37-c3618fc79f44>:12: UserWarning: FixedFormatter should only be used together with FixedLocator\n",
            "  ax.set_yticklabels([' '] + output_words)\n"
          ]
        },
        {
          "output_type": "display_data",
          "data": {
            "text/plain": [
              "<Figure size 640x480 with 2 Axes>"
            ],
            "image/png": "[encoded data removed]"
          },
          "metadata": {}
        }
      ]
    },
    {
      "cell_type": "markdown",
      "metadata": {
        "id": "uP0Bx95ZDhII"
      },
      "source": [
        "## Resumen"
      ]
    },
    {
      "cell_type": "markdown",
      "metadata": {
        "id": "Ozvpo0sfDhII"
      },
      "source": [
        "En este post hemos visto como introducir mecanismos de atención en nuestra arquitectura `encoder-decoder`, los cuales permiten a nuestra red neuronal focalizarse en partes concretas de los *inputs* a la hora de generar los *outputs*. Esta nueva capa no solo puede mejorar nuestros modelos sino que además también es interpretable, dándonos una idea del razonamiento detrás de las predicciones de nuestro modelo. Las redes neuronales con mejores prestaciones a día de hoy en tareas de `NLP`, los `transformers`, están basados enteramente en este tipo de capas de atención."
      ]
    }
  ]
}