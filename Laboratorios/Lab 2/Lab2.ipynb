{
  "nbformat": 4,
  "nbformat_minor": 0,
  "metadata": {
    "colab": {
      "provenance": [],
      "gpuType": "T4"
    },
    "kernelspec": {
      "name": "python3",
      "display_name": "Python 3"
    },
    "language_info": {
      "name": "python"
    },
    "accelerator": "GPU"
  },
  "cells": [
    {
      "cell_type": "code",
      "execution_count": null,
      "metadata": {
        "id": "JyImb2lWuEeq"
      },
      "outputs": [],
      "source": [
        "#importamos los datos necesarios\n",
        "#dataset escogido = https://www.kaggle.com/datasets/gpiosenka/70-dog-breedsimage-data-set?select=test\n"
      ]
    },
    {
      "cell_type": "code",
      "source": [
        "#conectamos a drive\n",
        "from google.colab import drive\n",
        "drive.mount('/content/drive')"
      ],
      "metadata": {
        "colab": {
          "base_uri": "https://localhost:8080/"
        },
        "id": "6jV1U5JMxuxD",
        "outputId": "7e4d0c10-baed-4b33-cf98-dad5d2ccbe50"
      },
      "execution_count": 1,
      "outputs": [
        {
          "output_type": "stream",
          "name": "stdout",
          "text": [
            "Mounted at /content/drive\n"
          ]
        }
      ]
    },
    {
      "cell_type": "code",
      "source": [
        "import torch"
      ],
      "metadata": {
        "id": "Xwk2qC4zH_jw"
      },
      "execution_count": 5,
      "outputs": []
    },
    {
      "cell_type": "code",
      "source": [
        "#descomprimir el zip\n",
        "ruta_del_archivo =\"/content/drive/MyDrive/datasets/dataset_perros.zip\"\n",
        "ruta_de_destino= \"/content\"\n",
        "!unzip '/content/drive/MyDrive/datasets/dataset_perros.zip' -d '/content/dataset'\n",
        "!unzip '/content/drive/MyDrive/datasets/dataset_perros.zip' -d '/content'"
      ],
      "metadata": {
        "id": "ceA8KgJByLXr"
      },
      "execution_count": null,
      "outputs": []
    },
    {
      "cell_type": "code",
      "source": [
        "import pandas as pd\n",
        "from torchvision.datasets import CIFAR10\n",
        "from torchvision import transforms\n",
        "from PIL import Image\n",
        "import os\n",
        "\n",
        "# Cargar el CSV que contiene las rutas de las imágenes y sus etiquetas\n",
        "ruta_csv = \"/content/dogs.csv\"\n",
        "datos_csv = pd.read_csv(ruta_csv)\n",
        "\n",
        "# Define la transformación para redimensionar las imágenes a 32x32 píxeles\n",
        "transformacion = transforms.Compose([\n",
        "    transforms.Resize((32, 32)),\n",
        "    transforms.ToTensor()\n",
        "])\n",
        "\n",
        "# Lista para almacenar las imágenes y etiquetas\n",
        "imagenes = []\n",
        "etiquetas = []\n",
        "\n",
        "# Iterar sobre las filas del CSV para cargar las imágenes y etiquetas\n",
        "for indice, fila in datos_csv.iterrows():\n",
        "    ruta_imagen = fila['filepaths']  # Suponiendo que la columna con las rutas de las imágenes se llama 'ruta_imagen'\n",
        "    etiqueta = fila['labels']  # Suponiendo que la columna con las etiquetas se llama 'etiqueta'\n",
        "\n",
        "    # Abrir la imagen y aplicar la transformación\n",
        "    imagen = Image.open(ruta_imagen)\n",
        "    imagen_transformada = transformacion(imagen)\n",
        "\n",
        "    # Agregar la imagen y etiqueta a las listas\n",
        "    imagenes.append(imagen_transformada)\n",
        "    etiquetas.append(etiqueta)\n",
        "\n",
        "# Crea el conjunto de datos CIFAR-10 personalizado\n",
        "cifar10_personalizado = [(imagen, etiqueta) for imagen, etiqueta in zip(imagenes, etiquetas)]\n",
        "\n",
        "# Ahora puedes usar este conjunto de datos personalizado\n"
      ],
      "metadata": {
        "id": "rJIKQHTQEVo1"
      },
      "execution_count": 3,
      "outputs": []
    },
    {
      "cell_type": "code",
      "source": [
        "# Divide el conjunto de datos en conjuntos de entrenamiento y prueba (80% train, 20% test)\n",
        "n_datos = len(cifar10_personalizado)\n",
        "n_train = int(0.8 * n_datos)\n",
        "n_test = n_datos - n_train\n",
        "trainset, testset = torch.utils.data.random_split(cifar10_personalizado, [n_train, n_test])\n",
        "\n",
        "# Ahora puedes utilizar train_set y test_set para entrenar y probar tu modelo"
      ],
      "metadata": {
        "id": "vWJ58R1lFUIb"
      },
      "execution_count": 6,
      "outputs": []
    },
    {
      "cell_type": "code",
      "source": [
        "import pandas as pd\n",
        "df = pd.read_csv(\"/content/dataset/dogs.csv\",sep=\",\")\n",
        "mask_train=df['data set'] == \"train\"\n",
        "mask_train=df['data set'] == \"test\"\n",
        "df[mask_train]"
      ],
      "metadata": {
        "colab": {
          "base_uri": "https://localhost:8080/",
          "height": 424
        },
        "id": "BFyz7SnH5pHq",
        "outputId": "e8239d7c-d508-46ff-8053-a165ec67fa36"
      },
      "execution_count": 15,
      "outputs": [
        {
          "output_type": "execute_result",
          "data": {
            "text/plain": [
              "               filepaths  labels data set\n",
              "7946  test/Afghan/01.jpg  Afghan     test\n",
              "7947  test/Afghan/02.jpg  Afghan     test\n",
              "7948  test/Afghan/03.jpg  Afghan     test\n",
              "7949  test/Afghan/04.jpg  Afghan     test\n",
              "7950  test/Afghan/05.jpg  Afghan     test\n",
              "...                  ...     ...      ...\n",
              "8641  test/Yorkie/06.jpg  Yorkie     test\n",
              "8642  test/Yorkie/07.jpg  Yorkie     test\n",
              "8643  test/Yorkie/08.jpg  Yorkie     test\n",
              "8644  test/Yorkie/09.jpg  Yorkie     test\n",
              "8645  test/Yorkie/10.jpg  Yorkie     test\n",
              "\n",
              "[700 rows x 3 columns]"
            ],
            "text/html": [
              "\n",
              "  <div id=\"df-848145c5-5845-46e4-82f7-5954939a5d37\" class=\"colab-df-container\">\n",
              "    <div>\n",
              "<style scoped>\n",
              "    .dataframe tbody tr th:only-of-type {\n",
              "        vertical-align: middle;\n",
              "    }\n",
              "\n",
              "    .dataframe tbody tr th {\n",
              "        vertical-align: top;\n",
              "    }\n",
              "\n",
              "    .dataframe thead th {\n",
              "        text-align: right;\n",
              "    }\n",
              "</style>\n",
              "<table border=\"1\" class=\"dataframe\">\n",
              "  <thead>\n",
              "    <tr style=\"text-align: right;\">\n",
              "      <th></th>\n",
              "      <th>filepaths</th>\n",
              "      <th>labels</th>\n",
              "      <th>data set</th>\n",
              "    </tr>\n",
              "  </thead>\n",
              "  <tbody>\n",
              "    <tr>\n",
              "      <th>7946</th>\n",
              "      <td>test/Afghan/01.jpg</td>\n",
              "      <td>Afghan</td>\n",
              "      <td>test</td>\n",
              "    </tr>\n",
              "    <tr>\n",
              "      <th>7947</th>\n",
              "      <td>test/Afghan/02.jpg</td>\n",
              "      <td>Afghan</td>\n",
              "      <td>test</td>\n",
              "    </tr>\n",
              "    <tr>\n",
              "      <th>7948</th>\n",
              "      <td>test/Afghan/03.jpg</td>\n",
              "      <td>Afghan</td>\n",
              "      <td>test</td>\n",
              "    </tr>\n",
              "    <tr>\n",
              "      <th>7949</th>\n",
              "      <td>test/Afghan/04.jpg</td>\n",
              "      <td>Afghan</td>\n",
              "      <td>test</td>\n",
              "    </tr>\n",
              "    <tr>\n",
              "      <th>7950</th>\n",
              "      <td>test/Afghan/05.jpg</td>\n",
              "      <td>Afghan</td>\n",
              "      <td>test</td>\n",
              "    </tr>\n",
              "    <tr>\n",
              "      <th>...</th>\n",
              "      <td>...</td>\n",
              "      <td>...</td>\n",
              "      <td>...</td>\n",
              "    </tr>\n",
              "    <tr>\n",
              "      <th>8641</th>\n",
              "      <td>test/Yorkie/06.jpg</td>\n",
              "      <td>Yorkie</td>\n",
              "      <td>test</td>\n",
              "    </tr>\n",
              "    <tr>\n",
              "      <th>8642</th>\n",
              "      <td>test/Yorkie/07.jpg</td>\n",
              "      <td>Yorkie</td>\n",
              "      <td>test</td>\n",
              "    </tr>\n",
              "    <tr>\n",
              "      <th>8643</th>\n",
              "      <td>test/Yorkie/08.jpg</td>\n",
              "      <td>Yorkie</td>\n",
              "      <td>test</td>\n",
              "    </tr>\n",
              "    <tr>\n",
              "      <th>8644</th>\n",
              "      <td>test/Yorkie/09.jpg</td>\n",
              "      <td>Yorkie</td>\n",
              "      <td>test</td>\n",
              "    </tr>\n",
              "    <tr>\n",
              "      <th>8645</th>\n",
              "      <td>test/Yorkie/10.jpg</td>\n",
              "      <td>Yorkie</td>\n",
              "      <td>test</td>\n",
              "    </tr>\n",
              "  </tbody>\n",
              "</table>\n",
              "<p>700 rows × 3 columns</p>\n",
              "</div>\n",
              "    <div class=\"colab-df-buttons\">\n",
              "\n",
              "  <div class=\"colab-df-container\">\n",
              "    <button class=\"colab-df-convert\" onclick=\"convertToInteractive('df-848145c5-5845-46e4-82f7-5954939a5d37')\"\n",
              "            title=\"Convert this dataframe to an interactive table.\"\n",
              "            style=\"display:none;\">\n",
              "\n",
              "  <svg xmlns=\"http://www.w3.org/2000/svg\" height=\"24px\" viewBox=\"0 -960 960 960\">\n",
              "    <path d=\"M120-120v-720h720v720H120Zm60-500h600v-160H180v160Zm220 220h160v-160H400v160Zm0 220h160v-160H400v160ZM180-400h160v-160H180v160Zm440 0h160v-160H620v160ZM180-180h160v-160H180v160Zm440 0h160v-160H620v160Z\"/>\n",
              "  </svg>\n",
              "    </button>\n",
              "\n",
              "  <style>\n",
              "    .colab-df-container {\n",
              "      display:flex;\n",
              "      gap: 12px;\n",
              "    }\n",
              "\n",
              "    .colab-df-convert {\n",
              "      background-color: #E8F0FE;\n",
              "      border: none;\n",
              "      border-radius: 50%;\n",
              "      cursor: pointer;\n",
              "      display: none;\n",
              "      fill: #1967D2;\n",
              "      height: 32px;\n",
              "      padding: 0 0 0 0;\n",
              "      width: 32px;\n",
              "    }\n",
              "\n",
              "    .colab-df-convert:hover {\n",
              "      background-color: #E2EBFA;\n",
              "      box-shadow: 0px 1px 2px rgba(60, 64, 67, 0.3), 0px 1px 3px 1px rgba(60, 64, 67, 0.15);\n",
              "      fill: #174EA6;\n",
              "    }\n",
              "\n",
              "    .colab-df-buttons div {\n",
              "      margin-bottom: 4px;\n",
              "    }\n",
              "\n",
              "    [theme=dark] .colab-df-convert {\n",
              "      background-color: #3B4455;\n",
              "      fill: #D2E3FC;\n",
              "    }\n",
              "\n",
              "    [theme=dark] .colab-df-convert:hover {\n",
              "      background-color: #434B5C;\n",
              "      box-shadow: 0px 1px 3px 1px rgba(0, 0, 0, 0.15);\n",
              "      filter: drop-shadow(0px 1px 2px rgba(0, 0, 0, 0.3));\n",
              "      fill: #FFFFFF;\n",
              "    }\n",
              "  </style>\n",
              "\n",
              "    <script>\n",
              "      const buttonEl =\n",
              "        document.querySelector('#df-848145c5-5845-46e4-82f7-5954939a5d37 button.colab-df-convert');\n",
              "      buttonEl.style.display =\n",
              "        google.colab.kernel.accessAllowed ? 'block' : 'none';\n",
              "\n",
              "      async function convertToInteractive(key) {\n",
              "        const element = document.querySelector('#df-848145c5-5845-46e4-82f7-5954939a5d37');\n",
              "        const dataTable =\n",
              "          await google.colab.kernel.invokeFunction('convertToInteractive',\n",
              "                                                    [key], {});\n",
              "        if (!dataTable) return;\n",
              "\n",
              "        const docLinkHtml = 'Like what you see? Visit the ' +\n",
              "          '<a target=\"_blank\" href=https://colab.research.google.com/notebooks/data_table.ipynb>data table notebook</a>'\n",
              "          + ' to learn more about interactive tables.';\n",
              "        element.innerHTML = '';\n",
              "        dataTable['output_type'] = 'display_data';\n",
              "        await google.colab.output.renderOutput(dataTable, element);\n",
              "        const docLink = document.createElement('div');\n",
              "        docLink.innerHTML = docLinkHtml;\n",
              "        element.appendChild(docLink);\n",
              "      }\n",
              "    </script>\n",
              "  </div>\n",
              "\n",
              "\n",
              "<div id=\"df-12f99397-4497-414b-a8e7-174695113888\">\n",
              "  <button class=\"colab-df-quickchart\" onclick=\"quickchart('df-12f99397-4497-414b-a8e7-174695113888')\"\n",
              "            title=\"Suggest charts\"\n",
              "            style=\"display:none;\">\n",
              "\n",
              "<svg xmlns=\"http://www.w3.org/2000/svg\" height=\"24px\"viewBox=\"0 0 24 24\"\n",
              "     width=\"24px\">\n",
              "    <g>\n",
              "        <path d=\"M19 3H5c-1.1 0-2 .9-2 2v14c0 1.1.9 2 2 2h14c1.1 0 2-.9 2-2V5c0-1.1-.9-2-2-2zM9 17H7v-7h2v7zm4 0h-2V7h2v10zm4 0h-2v-4h2v4z\"/>\n",
              "    </g>\n",
              "</svg>\n",
              "  </button>\n",
              "\n",
              "<style>\n",
              "  .colab-df-quickchart {\n",
              "      --bg-color: #E8F0FE;\n",
              "      --fill-color: #1967D2;\n",
              "      --hover-bg-color: #E2EBFA;\n",
              "      --hover-fill-color: #174EA6;\n",
              "      --disabled-fill-color: #AAA;\n",
              "      --disabled-bg-color: #DDD;\n",
              "  }\n",
              "\n",
              "  [theme=dark] .colab-df-quickchart {\n",
              "      --bg-color: #3B4455;\n",
              "      --fill-color: #D2E3FC;\n",
              "      --hover-bg-color: #434B5C;\n",
              "      --hover-fill-color: #FFFFFF;\n",
              "      --disabled-bg-color: #3B4455;\n",
              "      --disabled-fill-color: #666;\n",
              "  }\n",
              "\n",
              "  .colab-df-quickchart {\n",
              "    background-color: var(--bg-color);\n",
              "    border: none;\n",
              "    border-radius: 50%;\n",
              "    cursor: pointer;\n",
              "    display: none;\n",
              "    fill: var(--fill-color);\n",
              "    height: 32px;\n",
              "    padding: 0;\n",
              "    width: 32px;\n",
              "  }\n",
              "\n",
              "  .colab-df-quickchart:hover {\n",
              "    background-color: var(--hover-bg-color);\n",
              "    box-shadow: 0 1px 2px rgba(60, 64, 67, 0.3), 0 1px 3px 1px rgba(60, 64, 67, 0.15);\n",
              "    fill: var(--button-hover-fill-color);\n",
              "  }\n",
              "\n",
              "  .colab-df-quickchart-complete:disabled,\n",
              "  .colab-df-quickchart-complete:disabled:hover {\n",
              "    background-color: var(--disabled-bg-color);\n",
              "    fill: var(--disabled-fill-color);\n",
              "    box-shadow: none;\n",
              "  }\n",
              "\n",
              "  .colab-df-spinner {\n",
              "    border: 2px solid var(--fill-color);\n",
              "    border-color: transparent;\n",
              "    border-bottom-color: var(--fill-color);\n",
              "    animation:\n",
              "      spin 1s steps(1) infinite;\n",
              "  }\n",
              "\n",
              "  @keyframes spin {\n",
              "    0% {\n",
              "      border-color: transparent;\n",
              "      border-bottom-color: var(--fill-color);\n",
              "      border-left-color: var(--fill-color);\n",
              "    }\n",
              "    20% {\n",
              "      border-color: transparent;\n",
              "      border-left-color: var(--fill-color);\n",
              "      border-top-color: var(--fill-color);\n",
              "    }\n",
              "    30% {\n",
              "      border-color: transparent;\n",
              "      border-left-color: var(--fill-color);\n",
              "      border-top-color: var(--fill-color);\n",
              "      border-right-color: var(--fill-color);\n",
              "    }\n",
              "    40% {\n",
              "      border-color: transparent;\n",
              "      border-right-color: var(--fill-color);\n",
              "      border-top-color: var(--fill-color);\n",
              "    }\n",
              "    60% {\n",
              "      border-color: transparent;\n",
              "      border-right-color: var(--fill-color);\n",
              "    }\n",
              "    80% {\n",
              "      border-color: transparent;\n",
              "      border-right-color: var(--fill-color);\n",
              "      border-bottom-color: var(--fill-color);\n",
              "    }\n",
              "    90% {\n",
              "      border-color: transparent;\n",
              "      border-bottom-color: var(--fill-color);\n",
              "    }\n",
              "  }\n",
              "</style>\n",
              "\n",
              "  <script>\n",
              "    async function quickchart(key) {\n",
              "      const quickchartButtonEl =\n",
              "        document.querySelector('#' + key + ' button');\n",
              "      quickchartButtonEl.disabled = true;  // To prevent multiple clicks.\n",
              "      quickchartButtonEl.classList.add('colab-df-spinner');\n",
              "      try {\n",
              "        const charts = await google.colab.kernel.invokeFunction(\n",
              "            'suggestCharts', [key], {});\n",
              "      } catch (error) {\n",
              "        console.error('Error during call to suggestCharts:', error);\n",
              "      }\n",
              "      quickchartButtonEl.classList.remove('colab-df-spinner');\n",
              "      quickchartButtonEl.classList.add('colab-df-quickchart-complete');\n",
              "    }\n",
              "    (() => {\n",
              "      let quickchartButtonEl =\n",
              "        document.querySelector('#df-12f99397-4497-414b-a8e7-174695113888 button');\n",
              "      quickchartButtonEl.style.display =\n",
              "        google.colab.kernel.accessAllowed ? 'block' : 'none';\n",
              "    })();\n",
              "  </script>\n",
              "</div>\n",
              "\n",
              "    </div>\n",
              "  </div>\n"
            ],
            "application/vnd.google.colaboratory.intrinsic+json": {
              "type": "dataframe",
              "summary": "{\n  \"name\": \"df[mask_train]\",\n  \"rows\": 700,\n  \"fields\": [\n    {\n      \"column\": \"filepaths\",\n      \"properties\": {\n        \"dtype\": \"string\",\n        \"num_unique_values\": 700,\n        \"samples\": [\n          \"test/Borzoi/09.jpg\",\n          \"test/Malinois/01.jpg\",\n          \"test/Great Dane/07.jpg\"\n        ],\n        \"semantic_type\": \"\",\n        \"description\": \"\"\n      }\n    },\n    {\n      \"column\": \"labels\",\n      \"properties\": {\n        \"dtype\": \"category\",\n        \"num_unique_values\": 70,\n        \"samples\": [\n          \"Chihuahua\",\n          \"Afghan\",\n          \"Lhasa\"\n        ],\n        \"semantic_type\": \"\",\n        \"description\": \"\"\n      }\n    },\n    {\n      \"column\": \"data set\",\n      \"properties\": {\n        \"dtype\": \"category\",\n        \"num_unique_values\": 1,\n        \"samples\": [\n          \"test\"\n        ],\n        \"semantic_type\": \"\",\n        \"description\": \"\"\n      }\n    }\n  ]\n}"
            }
          },
          "metadata": {},
          "execution_count": 15
        }
      ]
    },
    {
      "cell_type": "code",
      "source": [
        "import random\n",
        "import matplotlib.pyplot as plt\n",
        "\n",
        "# Definir el número de filas y columnas para mostrar las imágenes\n",
        "r, c = 3, 5\n",
        "\n",
        "# Obtener una muestra aleatoria de índices del conjunto de entrenamiento\n",
        "indices = random.sample(range(len(trainset)), r*c)\n",
        "\n",
        "# Crear una figura para mostrar las imágenes\n",
        "plt.figure(figsize=(c*3, r*3))\n",
        "\n",
        "# Iterar sobre las filas y columnas para mostrar las imágenes\n",
        "for row in range(r):\n",
        "    for col in range(c):\n",
        "        index = c*row + col\n",
        "        plt.subplot(r, c, index + 1)\n",
        "\n",
        "        # Obtener la imagen y la etiqueta correspondiente para el índice actual\n",
        "        img, label = trainset[indices[index]]\n",
        "\n",
        "        # Mostrar la imagen y configurar los ejes\n",
        "        plt.imshow(img.permute(1, 2, 0))  # La imagen se convierte de (C, H, W) a (H, W, C) para que matplotlib pueda mostrarla correctamente\n",
        "        plt.axis('off')\n",
        "        plt.title(f'Label: {label}')  # Mostrar la etiqueta como título\n",
        "\n",
        "# Ajustar el espacio entre las imágenes en la figura\n",
        "plt.subplots_adjust(wspace=0.2, hspace=0.5)\n",
        "\n",
        "# Mostrar la figura con las imágenes\n",
        "plt.show()\n"
      ],
      "metadata": {
        "id": "8E5lygr2F4cw",
        "outputId": "b439895a-7667-437a-a379-d4e0f8b35be1",
        "colab": {
          "base_uri": "https://localhost:8080/",
          "height": 596
        }
      },
      "execution_count": 7,
      "outputs": [
        {
          "output_type": "display_data",
          "data": {
            "text/plain": [
              "<Figure size 1500x900 with 15 Axes>"
            ],
            "image/png": "[encoded data removed]"
          },
          "metadata": {}
        }
      ]
    },
    {
      "cell_type": "code",
      "source": [
        "# convertimos imágenes a arrays de numpy\n",
        "\n",
        "import numpy as np\n",
        "\n",
        "train_images = np.array([np.array(img) for img, label in trainset])\n",
        "test_images = np.array([np.array(img) for img, label in testset])\n",
        "\n",
        "train_labels = np.array([label for img, label in trainset])\n",
        "test_labels = np.array([label for img, label in testset])"
      ],
      "metadata": {
        "id": "qXYoWwWYGlDU"
      },
      "execution_count": 8,
      "outputs": []
    },
    {
      "cell_type": "code",
      "source": [
        "# ver número de imágenes, resolución y número de canales\n",
        "\n",
        "train_images.shape, test_images.shape, train_labels.shape, test_labels.shape"
      ],
      "metadata": {
        "id": "vr2VTGjPGn0S",
        "outputId": "33acdaa7-40cf-4ef9-8f6f-b72951827f17",
        "colab": {
          "base_uri": "https://localhost:8080/"
        }
      },
      "execution_count": 9,
      "outputs": [
        {
          "output_type": "execute_result",
          "data": {
            "text/plain": [
              "((7476, 3, 32, 32), (1870, 3, 32, 32), (7476,), (1870,))"
            ]
          },
          "metadata": {},
          "execution_count": 9
        }
      ]
    },
    {
      "cell_type": "code",
      "source": [
        "# tipo de datos\n",
        "\n",
        "train_images.dtype, train_labels.dtype"
      ],
      "metadata": {
        "id": "ceQEYOJoGqbK",
        "outputId": "b3ee905d-9a33-42e7-f6cf-f9f353d84fbb",
        "colab": {
          "base_uri": "https://localhost:8080/"
        }
      },
      "execution_count": 10,
      "outputs": [
        {
          "output_type": "execute_result",
          "data": {
            "text/plain": [
              "(dtype('float32'), dtype('<U17'))"
            ]
          },
          "metadata": {},
          "execution_count": 10
        }
      ]
    },
    {
      "cell_type": "code",
      "source": [
        "# estadísiticos\n",
        "\n",
        "max_value = train_images.max(axis=(0, 1, 2))\n",
        "min_value = train_images.min(axis=(0, 1, 2))\n",
        "\n",
        "max_value, min_value"
      ],
      "metadata": {
        "id": "9VwM3XEaGsX6",
        "outputId": "2a9b8a03-fb3e-435b-d6b5-4abb7cd768a2",
        "colab": {
          "base_uri": "https://localhost:8080/"
        }
      },
      "execution_count": 11,
      "outputs": [
        {
          "output_type": "execute_result",
          "data": {
            "text/plain": [
              "(array([1., 1., 1., 1., 1., 1., 1., 1., 1., 1., 1., 1., 1., 1., 1., 1., 1.,\n",
              "        1., 1., 1., 1., 1., 1., 1., 1., 1., 1., 1., 1., 1., 1., 1.],\n",
              "       dtype=float32),\n",
              " array([0., 0., 0., 0., 0., 0., 0., 0., 0., 0., 0., 0., 0., 0., 0., 0., 0.,\n",
              "        0., 0., 0., 0., 0., 0., 0., 0., 0., 0., 0., 0., 0., 0., 0.],\n",
              "       dtype=float32))"
            ]
          },
          "metadata": {},
          "execution_count": 11
        }
      ]
    },
    {
      "cell_type": "code",
      "source": [
        "mean = (train_images / 255).mean(axis=(0, 1, 2))\n",
        "std = (train_images / 255).std(axis=(0, 1, 2))\n",
        "\n",
        "mean, std"
      ],
      "metadata": {
        "id": "90rbQmfRGu3y",
        "outputId": "f767e0c2-124f-41bd-e279-84043c88ea08",
        "colab": {
          "base_uri": "https://localhost:8080/"
        }
      },
      "execution_count": 12,
      "outputs": [
        {
          "output_type": "execute_result",
          "data": {
            "text/plain": [
              "(array([0.0019522 , 0.00194441, 0.00192935, 0.00191462, 0.00189974,\n",
              "        0.00188081, 0.00186442, 0.00185081, 0.00183946, 0.00183426,\n",
              "        0.00183502, 0.00183811, 0.00184257, 0.00184518, 0.00184536,\n",
              "        0.00184787, 0.00184857, 0.00184926, 0.00185039, 0.00185021,\n",
              "        0.00185041, 0.00185087, 0.00185193, 0.00185766, 0.00186845,\n",
              "        0.0018816 , 0.001895  , 0.00190876, 0.00192014, 0.00193162,\n",
              "        0.00194434, 0.00195192], dtype=float32),\n",
              " array([0.00106587, 0.00104784, 0.00103309, 0.0010217 , 0.00101338,\n",
              "        0.00100526, 0.0009983 , 0.00099247, 0.00098901, 0.00098603,\n",
              "        0.00098345, 0.00098348, 0.00098657, 0.00098897, 0.00098865,\n",
              "        0.0009899 , 0.00099058, 0.00098891, 0.00098813, 0.00099066,\n",
              "        0.00099222, 0.00099291, 0.00099437, 0.00099659, 0.00100024,\n",
              "        0.00100574, 0.00101074, 0.00101686, 0.00102395, 0.00103369,\n",
              "        0.00104572, 0.00106442], dtype=float32))"
            ]
          },
          "metadata": {},
          "execution_count": 12
        }
      ]
    },
    {
      "cell_type": "code",
      "source": [
        "# distribución de clases\n",
        "\n",
        "plt.hist(train_labels[:30000], bins=len(etiquetas))\n",
        "plt.show()"
      ],
      "metadata": {
        "id": "83fJ7MivGxaJ",
        "outputId": "d070334e-c244-4c7d-85ff-96b25a173238",
        "colab": {
          "base_uri": "https://localhost:8080/",
          "height": 430
        }
      },
      "execution_count": 13,
      "outputs": [
        {
          "output_type": "display_data",
          "data": {
            "text/plain": [
              "<Figure size 640x480 with 1 Axes>"
            ],
            "image/png": "[encoded data removed]"
          },
          "metadata": {}
        }
      ]
    },
    {
      "cell_type": "code",
      "source": [
        "unique, counts = np.unique(train_labels, return_counts=True)\n",
        "unique, counts"
      ],
      "metadata": {
        "id": "rojS0uuOG9SR",
        "outputId": "700d3791-6bb5-4c1d-db31-71a1fb553e97",
        "colab": {
          "base_uri": "https://localhost:8080/"
        }
      },
      "execution_count": 14,
      "outputs": [
        {
          "output_type": "execute_result",
          "data": {
            "text/plain": [
              "(array(['Afghan', 'African Wild Dog', 'Airedale', 'American  Spaniel',\n",
              "        'American Hairless', 'American Spaniel', 'Basenji', 'Basset',\n",
              "        'Beagle', 'Bearded Collie', 'Bermaise', 'Bichon Frise', 'Blenheim',\n",
              "        'Bloodhound', 'Bluetick', 'Border Collie', 'Borzoi',\n",
              "        'Boston Terrier', 'Boxer', 'Bull Mastiff', 'Bull Terrier',\n",
              "        'Bulldog', 'Cairn', 'Chihuahua', 'Chinese Crested', 'Chow',\n",
              "        'Clumber', 'Cockapoo', 'Cocker', 'Collie', 'Corgi', 'Coyote',\n",
              "        'Dalmation', 'Dhole', 'Dingo', 'Doberman', 'Elk Hound',\n",
              "        'French Bulldog', 'German Sheperd', 'Golden Retriever',\n",
              "        'Great Dane', 'Great Perenees', 'Greyhound', 'Groenendael',\n",
              "        'Irish Spaniel', 'Irish Wolfhound', 'Japanese Spaniel', 'Komondor',\n",
              "        'Labradoodle', 'Labrador', 'Lhasa', 'Malinois', 'Maltese',\n",
              "        'Mex Hairless', 'Newfoundland', 'Pekinese', 'Pit Bull',\n",
              "        'Pomeranian', 'Poodle', 'Pug', 'Rhodesian', 'Rottweiler',\n",
              "        'Saint Bernard', 'Schnauzer', 'Scotch Terrier', 'Shar_Pei',\n",
              "        'Shiba Inu', 'Shih-Tzu', 'Siberian Husky', 'Vizsla', 'Yorkie'],\n",
              "       dtype='<U17'),\n",
              " array([107, 105, 113,  10,  68,  88, 108, 140, 119,  77, 125,  95, 111,\n",
              "        128, 104, 111, 100,  80, 132, 127,  91, 112, 107, 101, 113, 107,\n",
              "        115, 126, 121, 108, 105,  83,  88, 118, 121, 112,  91,  89, 102,\n",
              "        120, 108,  80,  99, 105, 115,  94, 108,  91, 100, 137, 168,  99,\n",
              "        119,  93,  80,  96, 117, 133, 116, 131, 114,  93,  78,  97, 131,\n",
              "         94,  95, 169,  80,  84,  74]))"
            ]
          },
          "metadata": {},
          "execution_count": 14
        }
      ]
    },
    {
      "cell_type": "code",
      "source": [
        "import torch\n",
        "\n",
        "def build_model(D_in=32*32*3, H=100, D_out=10):\n",
        "    return torch.nn.Sequential(\n",
        "        torch.nn.Linear(D_in, H),\n",
        "        torch.nn.ReLU(),\n",
        "        torch.nn.Linear(H, H),\n",
        "        torch.nn.ReLU(),\n",
        "        torch.nn.Linear(H, D_out)\n",
        "    ).cuda()\n",
        "\n"
      ],
      "metadata": {
        "id": "13piZcUUHCfp"
      },
      "execution_count": 15,
      "outputs": []
    },
    {
      "cell_type": "code",
      "source": [
        "model = build_model()\n",
        "test_input = torch.randn((64, 32*32*3)).cuda()\n",
        "test_output = model(test_input)\n",
        "test_output.shape"
      ],
      "metadata": {
        "id": "NUwqzZfIHEN6",
        "outputId": "26f01302-9eaf-4f12-b673-eb3f05366ffc",
        "colab": {
          "base_uri": "https://localhost:8080/"
        }
      },
      "execution_count": 17,
      "outputs": [
        {
          "output_type": "execute_result",
          "data": {
            "text/plain": [
              "torch.Size([64, 10])"
            ]
          },
          "metadata": {},
          "execution_count": 17
        }
      ]
    },
    {
      "cell_type": "code",
      "source": [
        "import numpy as np\n",
        "\n",
        "train_images = np.array([np.array(img) for img, label in trainset])\n",
        "X_test = np.array([np.array(img) for img, label in testset])\n",
        "\n",
        "train_labels = np.array([label for img, label in trainset])\n",
        "y_test = np.array([label for img, label in testset])\n",
        "\n",
        "X_train, X_val, X_subset = train_images[:40000], train_images[40000:], train_images[:5000]\n",
        "y_train, y_val, y_subset = train_labels[:40000], train_labels[40000:], train_labels[:5000]\n",
        "\n",
        "X_train.shape, X_val.shape, X_test.shape, X_subset.shape"
      ],
      "metadata": {
        "id": "NDPqRJXgIUuI",
        "outputId": "b7536998-348f-42f9-8428-b980c73e97e8",
        "colab": {
          "base_uri": "https://localhost:8080/"
        }
      },
      "execution_count": 18,
      "outputs": [
        {
          "output_type": "execute_result",
          "data": {
            "text/plain": [
              "((7476, 3, 32, 32), (0, 3, 32, 32), (1870, 3, 32, 32), (5000, 3, 32, 32))"
            ]
          },
          "metadata": {},
          "execution_count": 18
        }
      ]
    },
    {
      "cell_type": "code",
      "source": [
        "class Dataset(torch.utils.data.Dataset):\n",
        "    def __init__(self, X, Y):\n",
        "        self.X = torch.from_numpy(X / 255.).float().cuda().view(-1, 32*32*3)\n",
        "        self.Y = torch.from_numpy(Y).long().cuda()\n",
        "    def __len__(self):\n",
        "        return len(self.X)\n",
        "    def __getitem__(self, ix):\n",
        "        return self.X[ix], self.Y[ix]"
      ],
      "metadata": {
        "id": "k5SO2iSFIWox"
      },
      "execution_count": 19,
      "outputs": []
    },
    {
      "cell_type": "code",
      "source": [
        "from sklearn.preprocessing import LabelEncoder\n",
        "\n",
        "# Convertir las etiquetas a números enteros utilizando LabelEncoder\n",
        "encoder = LabelEncoder()\n",
        "y_subset_numeric = encoder.fit_transform(y_subset)\n",
        "\n",
        "# Crear el conjunto de datos con las etiquetas numéricas\n",
        "dataset = Dataset(X_subset[:1], y_subset_numeric[:1])\n",
        "\n",
        "# Crear el dataloader\n",
        "dataloader = torch.utils.data.DataLoader(dataset, batch_size=1)\n",
        "\n",
        "# Comprobar la longitud del dataset\n",
        "print(len(dataset))\n",
        "\n",
        "\n",
        "dataloader = torch.utils.data.DataLoader(dataset, batch_size=1)\n",
        "\n",
        "len(dataset)"
      ],
      "metadata": {
        "id": "3qMfHBpbIYth",
        "outputId": "e879a7a1-29e4-4d22-8fcf-b0f16e4b1e46",
        "colab": {
          "base_uri": "https://localhost:8080/"
        }
      },
      "execution_count": 23,
      "outputs": [
        {
          "output_type": "stream",
          "name": "stdout",
          "text": [
            "1\n"
          ]
        },
        {
          "output_type": "execute_result",
          "data": {
            "text/plain": [
              "1"
            ]
          },
          "metadata": {},
          "execution_count": 23
        }
      ]
    },
    {
      "cell_type": "code",
      "source": [
        "epochs = 5\n",
        "criterion = torch.nn.CrossEntropyLoss()\n",
        "model = build_model()\n",
        "optimizer = torch.optim.Adam(model.parameters(), lr=0.01)\n",
        "for e in range(1, epochs+1):\n",
        "    for x_b, y_b in dataloader:\n",
        "        y_pred = model(x_b)\n",
        "        loss = criterion(y_pred, y_b)\n",
        "        optimizer.zero_grad()\n",
        "        loss.backward()\n",
        "        optimizer.step()\n",
        "        print(f\"Epoch {e}/{epochs} loss {loss.item():.5f} y {y_b.item()} y_pred {torch.argmax(y_pred, axis=1).item()}\")"
      ],
      "metadata": {
        "id": "0-aeVu_EJrKX",
        "outputId": "cdbba2fd-fa2f-4a38-8d40-67e09c6a8369",
        "colab": {
          "base_uri": "https://localhost:8080/",
          "height": 426
        }
      },
      "execution_count": 27,
      "outputs": [
        {
          "output_type": "error",
          "ename": "RuntimeError",
          "evalue": "CUDA error: device-side assert triggered\nCUDA kernel errors might be asynchronously reported at some other API call, so the stacktrace below might be incorrect.\nFor debugging consider passing CUDA_LAUNCH_BLOCKING=1.\nCompile with `TORCH_USE_CUDA_DSA` to enable device-side assertions.\n",
          "traceback": [
            "\u001b[0;31m---------------------------------------------------------------------------\u001b[0m",
            "\u001b[0;31mRuntimeError\u001b[0m                              Traceback (most recent call last)",
            "\u001b[0;32m<ipython-input-27-3b4d05d16014>\u001b[0m in \u001b[0;36m<cell line: 3>\u001b[0;34m()\u001b[0m\n\u001b[1;32m      1\u001b[0m \u001b[0mepochs\u001b[0m \u001b[0;34m=\u001b[0m \u001b[0;36m5\u001b[0m\u001b[0;34m\u001b[0m\u001b[0;34m\u001b[0m\u001b[0m\n\u001b[1;32m      2\u001b[0m \u001b[0mcriterion\u001b[0m \u001b[0;34m=\u001b[0m \u001b[0mtorch\u001b[0m\u001b[0;34m.\u001b[0m\u001b[0mnn\u001b[0m\u001b[0;34m.\u001b[0m\u001b[0mCrossEntropyLoss\u001b[0m\u001b[0;34m(\u001b[0m\u001b[0;34m)\u001b[0m\u001b[0;34m\u001b[0m\u001b[0;34m\u001b[0m\u001b[0m\n\u001b[0;32m----> 3\u001b[0;31m \u001b[0mmodel\u001b[0m \u001b[0;34m=\u001b[0m \u001b[0mbuild_model\u001b[0m\u001b[0;34m(\u001b[0m\u001b[0;34m)\u001b[0m\u001b[0;34m\u001b[0m\u001b[0;34m\u001b[0m\u001b[0m\n\u001b[0m\u001b[1;32m      4\u001b[0m \u001b[0moptimizer\u001b[0m \u001b[0;34m=\u001b[0m \u001b[0mtorch\u001b[0m\u001b[0;34m.\u001b[0m\u001b[0moptim\u001b[0m\u001b[0;34m.\u001b[0m\u001b[0mAdam\u001b[0m\u001b[0;34m(\u001b[0m\u001b[0mmodel\u001b[0m\u001b[0;34m.\u001b[0m\u001b[0mparameters\u001b[0m\u001b[0;34m(\u001b[0m\u001b[0;34m)\u001b[0m\u001b[0;34m,\u001b[0m \u001b[0mlr\u001b[0m\u001b[0;34m=\u001b[0m\u001b[0;36m0.01\u001b[0m\u001b[0;34m)\u001b[0m\u001b[0;34m\u001b[0m\u001b[0;34m\u001b[0m\u001b[0m\n\u001b[1;32m      5\u001b[0m \u001b[0;32mfor\u001b[0m \u001b[0me\u001b[0m \u001b[0;32min\u001b[0m \u001b[0mrange\u001b[0m\u001b[0;34m(\u001b[0m\u001b[0;36m1\u001b[0m\u001b[0;34m,\u001b[0m \u001b[0mepochs\u001b[0m\u001b[0;34m+\u001b[0m\u001b[0;36m1\u001b[0m\u001b[0;34m)\u001b[0m\u001b[0;34m:\u001b[0m\u001b[0;34m\u001b[0m\u001b[0;34m\u001b[0m\u001b[0m\n",
            "\u001b[0;32m<ipython-input-15-239d32f48544>\u001b[0m in \u001b[0;36mbuild_model\u001b[0;34m(D_in, H, D_out)\u001b[0m\n\u001b[1;32m      8\u001b[0m         \u001b[0mtorch\u001b[0m\u001b[0;34m.\u001b[0m\u001b[0mnn\u001b[0m\u001b[0;34m.\u001b[0m\u001b[0mReLU\u001b[0m\u001b[0;34m(\u001b[0m\u001b[0;34m)\u001b[0m\u001b[0;34m,\u001b[0m\u001b[0;34m\u001b[0m\u001b[0;34m\u001b[0m\u001b[0m\n\u001b[1;32m      9\u001b[0m         \u001b[0mtorch\u001b[0m\u001b[0;34m.\u001b[0m\u001b[0mnn\u001b[0m\u001b[0;34m.\u001b[0m\u001b[0mLinear\u001b[0m\u001b[0;34m(\u001b[0m\u001b[0mH\u001b[0m\u001b[0;34m,\u001b[0m \u001b[0mD_out\u001b[0m\u001b[0;34m)\u001b[0m\u001b[0;34m\u001b[0m\u001b[0;34m\u001b[0m\u001b[0m\n\u001b[0;32m---> 10\u001b[0;31m     ).cuda()\n\u001b[0m\u001b[1;32m     11\u001b[0m \u001b[0;34m\u001b[0m\u001b[0m\n",
            "\u001b[0;32m/usr/local/lib/python3.10/dist-packages/torch/nn/modules/module.py\u001b[0m in \u001b[0;36mcuda\u001b[0;34m(self, device)\u001b[0m\n\u001b[1;32m    916\u001b[0m             \u001b[0mModule\u001b[0m\u001b[0;34m:\u001b[0m \u001b[0mself\u001b[0m\u001b[0;34m\u001b[0m\u001b[0;34m\u001b[0m\u001b[0m\n\u001b[1;32m    917\u001b[0m         \"\"\"\n\u001b[0;32m--> 918\u001b[0;31m         \u001b[0;32mreturn\u001b[0m \u001b[0mself\u001b[0m\u001b[0;34m.\u001b[0m\u001b[0m_apply\u001b[0m\u001b[0;34m(\u001b[0m\u001b[0;32mlambda\u001b[0m \u001b[0mt\u001b[0m\u001b[0;34m:\u001b[0m \u001b[0mt\u001b[0m\u001b[0;34m.\u001b[0m\u001b[0mcuda\u001b[0m\u001b[0;34m(\u001b[0m\u001b[0mdevice\u001b[0m\u001b[0;34m)\u001b[0m\u001b[0;34m)\u001b[0m\u001b[0;34m\u001b[0m\u001b[0;34m\u001b[0m\u001b[0m\n\u001b[0m\u001b[1;32m    919\u001b[0m \u001b[0;34m\u001b[0m\u001b[0m\n\u001b[1;32m    920\u001b[0m     \u001b[0;32mdef\u001b[0m \u001b[0mipu\u001b[0m\u001b[0;34m(\u001b[0m\u001b[0mself\u001b[0m\u001b[0;34m:\u001b[0m \u001b[0mT\u001b[0m\u001b[0;34m,\u001b[0m \u001b[0mdevice\u001b[0m\u001b[0;34m:\u001b[0m \u001b[0mOptional\u001b[0m\u001b[0;34m[\u001b[0m\u001b[0mUnion\u001b[0m\u001b[0;34m[\u001b[0m\u001b[0mint\u001b[0m\u001b[0;34m,\u001b[0m \u001b[0mdevice\u001b[0m\u001b[0;34m]\u001b[0m\u001b[0;34m]\u001b[0m \u001b[0;34m=\u001b[0m \u001b[0;32mNone\u001b[0m\u001b[0;34m)\u001b[0m \u001b[0;34m->\u001b[0m \u001b[0mT\u001b[0m\u001b[0;34m:\u001b[0m\u001b[0;34m\u001b[0m\u001b[0;34m\u001b[0m\u001b[0m\n",
            "\u001b[0;32m/usr/local/lib/python3.10/dist-packages/torch/nn/modules/module.py\u001b[0m in \u001b[0;36m_apply\u001b[0;34m(self, fn, recurse)\u001b[0m\n\u001b[1;32m    808\u001b[0m         \u001b[0;32mif\u001b[0m \u001b[0mrecurse\u001b[0m\u001b[0;34m:\u001b[0m\u001b[0;34m\u001b[0m\u001b[0;34m\u001b[0m\u001b[0m\n\u001b[1;32m    809\u001b[0m             \u001b[0;32mfor\u001b[0m \u001b[0mmodule\u001b[0m \u001b[0;32min\u001b[0m \u001b[0mself\u001b[0m\u001b[0;34m.\u001b[0m\u001b[0mchildren\u001b[0m\u001b[0;34m(\u001b[0m\u001b[0;34m)\u001b[0m\u001b[0;34m:\u001b[0m\u001b[0;34m\u001b[0m\u001b[0;34m\u001b[0m\u001b[0m\n\u001b[0;32m--> 810\u001b[0;31m                 \u001b[0mmodule\u001b[0m\u001b[0;34m.\u001b[0m\u001b[0m_apply\u001b[0m\u001b[0;34m(\u001b[0m\u001b[0mfn\u001b[0m\u001b[0;34m)\u001b[0m\u001b[0;34m\u001b[0m\u001b[0;34m\u001b[0m\u001b[0m\n\u001b[0m\u001b[1;32m    811\u001b[0m \u001b[0;34m\u001b[0m\u001b[0m\n\u001b[1;32m    812\u001b[0m         \u001b[0;32mdef\u001b[0m \u001b[0mcompute_should_use_set_data\u001b[0m\u001b[0;34m(\u001b[0m\u001b[0mtensor\u001b[0m\u001b[0;34m,\u001b[0m \u001b[0mtensor_applied\u001b[0m\u001b[0;34m)\u001b[0m\u001b[0;34m:\u001b[0m\u001b[0;34m\u001b[0m\u001b[0;34m\u001b[0m\u001b[0m\n",
            "\u001b[0;32m/usr/local/lib/python3.10/dist-packages/torch/nn/modules/module.py\u001b[0m in \u001b[0;36m_apply\u001b[0;34m(self, fn, recurse)\u001b[0m\n\u001b[1;32m    831\u001b[0m             \u001b[0;31m# `with torch.no_grad():`\u001b[0m\u001b[0;34m\u001b[0m\u001b[0;34m\u001b[0m\u001b[0m\n\u001b[1;32m    832\u001b[0m             \u001b[0;32mwith\u001b[0m \u001b[0mtorch\u001b[0m\u001b[0;34m.\u001b[0m\u001b[0mno_grad\u001b[0m\u001b[0;34m(\u001b[0m\u001b[0;34m)\u001b[0m\u001b[0;34m:\u001b[0m\u001b[0;34m\u001b[0m\u001b[0;34m\u001b[0m\u001b[0m\n\u001b[0;32m--> 833\u001b[0;31m                 \u001b[0mparam_applied\u001b[0m \u001b[0;34m=\u001b[0m \u001b[0mfn\u001b[0m\u001b[0;34m(\u001b[0m\u001b[0mparam\u001b[0m\u001b[0;34m)\u001b[0m\u001b[0;34m\u001b[0m\u001b[0;34m\u001b[0m\u001b[0m\n\u001b[0m\u001b[1;32m    834\u001b[0m             \u001b[0mshould_use_set_data\u001b[0m \u001b[0;34m=\u001b[0m \u001b[0mcompute_should_use_set_data\u001b[0m\u001b[0;34m(\u001b[0m\u001b[0mparam\u001b[0m\u001b[0;34m,\u001b[0m \u001b[0mparam_applied\u001b[0m\u001b[0;34m)\u001b[0m\u001b[0;34m\u001b[0m\u001b[0;34m\u001b[0m\u001b[0m\n\u001b[1;32m    835\u001b[0m             \u001b[0;32mif\u001b[0m \u001b[0mshould_use_set_data\u001b[0m\u001b[0;34m:\u001b[0m\u001b[0;34m\u001b[0m\u001b[0;34m\u001b[0m\u001b[0m\n",
            "\u001b[0;32m/usr/local/lib/python3.10/dist-packages/torch/nn/modules/module.py\u001b[0m in \u001b[0;36m<lambda>\u001b[0;34m(t)\u001b[0m\n\u001b[1;32m    916\u001b[0m             \u001b[0mModule\u001b[0m\u001b[0;34m:\u001b[0m \u001b[0mself\u001b[0m\u001b[0;34m\u001b[0m\u001b[0;34m\u001b[0m\u001b[0m\n\u001b[1;32m    917\u001b[0m         \"\"\"\n\u001b[0;32m--> 918\u001b[0;31m         \u001b[0;32mreturn\u001b[0m \u001b[0mself\u001b[0m\u001b[0;34m.\u001b[0m\u001b[0m_apply\u001b[0m\u001b[0;34m(\u001b[0m\u001b[0;32mlambda\u001b[0m \u001b[0mt\u001b[0m\u001b[0;34m:\u001b[0m \u001b[0mt\u001b[0m\u001b[0;34m.\u001b[0m\u001b[0mcuda\u001b[0m\u001b[0;34m(\u001b[0m\u001b[0mdevice\u001b[0m\u001b[0;34m)\u001b[0m\u001b[0;34m)\u001b[0m\u001b[0;34m\u001b[0m\u001b[0;34m\u001b[0m\u001b[0m\n\u001b[0m\u001b[1;32m    919\u001b[0m \u001b[0;34m\u001b[0m\u001b[0m\n\u001b[1;32m    920\u001b[0m     \u001b[0;32mdef\u001b[0m \u001b[0mipu\u001b[0m\u001b[0;34m(\u001b[0m\u001b[0mself\u001b[0m\u001b[0;34m:\u001b[0m \u001b[0mT\u001b[0m\u001b[0;34m,\u001b[0m \u001b[0mdevice\u001b[0m\u001b[0;34m:\u001b[0m \u001b[0mOptional\u001b[0m\u001b[0;34m[\u001b[0m\u001b[0mUnion\u001b[0m\u001b[0;34m[\u001b[0m\u001b[0mint\u001b[0m\u001b[0;34m,\u001b[0m \u001b[0mdevice\u001b[0m\u001b[0;34m]\u001b[0m\u001b[0;34m]\u001b[0m \u001b[0;34m=\u001b[0m \u001b[0;32mNone\u001b[0m\u001b[0;34m)\u001b[0m \u001b[0;34m->\u001b[0m \u001b[0mT\u001b[0m\u001b[0;34m:\u001b[0m\u001b[0;34m\u001b[0m\u001b[0;34m\u001b[0m\u001b[0m\n",
            "\u001b[0;31mRuntimeError\u001b[0m: CUDA error: device-side assert triggered\nCUDA kernel errors might be asynchronously reported at some other API call, so the stacktrace below might be incorrect.\nFor debugging consider passing CUDA_LAUNCH_BLOCKING=1.\nCompile with `TORCH_USE_CUDA_DSA` to enable device-side assertions.\n"
          ]
        }
      ]
    }
  ]
}